{
 "cells": [
  {
   "cell_type": "code",
   "execution_count": 9,
   "id": "50745270-2c74-42b0-96f2-92ee6a24fa4a",
   "metadata": {},
   "outputs": [
    {
     "data": {
      "text/plain": [
       "'\\n[Selenium(셀레니움)]\\n\\n- 웹 브라우저를 자동으로 제어할 수 있도록 지원하는 오픈소스 웹 애플리케이션 테스트 프레임워크이다.\\n- 사용자는 셀레니움을 통해 실제 브라우저를 띄우고 사람처럼 웹사이트를 열고, 검색하고, 클릭하고, 입력하는 등의 작업을 자동화된 코드로 수행할 수 있다.\\n\\n[셀레니움 주요 특징]\\n\\n1. 웹 브라우저 자동 제어\\n2. w자동화 테스트, 다양한 언어지원, 사람처럼 조작, 동적 웹페이지 지원\\n\\n[셀레니움 예시]\\n\\n: 웹 사이트 열기, 버튼 클릭하기, 검색 입력하고 엔터 누르기, 페이지 스크린샷 저장하기, 자동 로그인, 반복 작업 자동화.\\n\\n[셀레니움 기본 동작 구조]\\n\\n: 파이썬 코드 -> selenium -> 크롬 드라이버 -> 크롬 브라우저 실행 -> 작업 수행\\n'"
      ]
     },
     "execution_count": 9,
     "metadata": {},
     "output_type": "execute_result"
    }
   ],
   "source": [
    "'''\n",
    "2025.04.22 화\n",
    "\n",
    "예제 5 : 사이트 자동으로 열기\n",
    "'''\n",
    "\n",
    "'''\n",
    "[Selenium(셀레니움)]\n",
    "\n",
    "- 웹 브라우저를 자동으로 제어할 수 있도록 지원하는 오픈소스 웹 애플리케이션 테스트 프레임워크이다.\n",
    "- 사용자는 셀레니움을 통해 실제 브라우저를 띄우고 사람처럼 웹사이트를 열고, 검색하고, 클릭하고, 입력하는 등의 작업을 자동화된 코드로 수행할 수 있다.\n",
    "\n",
    "[셀레니움 주요 특징]\n",
    "\n",
    "1. 웹 브라우저 자동 제어\n",
    "2. w자동화 테스트, 다양한 언어지원, 사람처럼 조작, 동적 웹페이지 지원\n",
    "\n",
    "[셀레니움 예시]\n",
    "\n",
    ": 웹 사이트 열기, 버튼 클릭하기, 검색 입력하고 엔터 누르기, 페이지 스크린샷 저장하기, 자동 로그인, 반복 작업 자동화.\n",
    "\n",
    "[셀레니움 기본 동작 구조]\n",
    "\n",
    ": 파이썬 코드 -> selenium -> 크롬 드라이버 -> 크롬 브라우저 실행 -> 작업 수행\n",
    "'''"
   ]
  },
  {
   "cell_type": "code",
   "execution_count": 11,
   "id": "0d3ca474-22e4-4408-a057-88b8f7088258",
   "metadata": {},
   "outputs": [
    {
     "name": "stdout",
     "output_type": "stream",
     "text": [
      "Requirement already satisfied: selenium in c:\\users\\ar.kim\\anaconda3\\lib\\site-packages (4.31.0)\n",
      "Requirement already satisfied: urllib3<3,>=1.26 in c:\\users\\ar.kim\\anaconda3\\lib\\site-packages (from urllib3[socks]<3,>=1.26->selenium) (2.2.3)\n",
      "Requirement already satisfied: trio~=0.17 in c:\\users\\ar.kim\\anaconda3\\lib\\site-packages (from selenium) (0.30.0)\n",
      "Requirement already satisfied: trio-websocket~=0.9 in c:\\users\\ar.kim\\anaconda3\\lib\\site-packages (from selenium) (0.12.2)\n",
      "Requirement already satisfied: certifi>=2021.10.8 in c:\\users\\ar.kim\\anaconda3\\lib\\site-packages (from selenium) (2025.1.31)\n",
      "Requirement already satisfied: typing_extensions~=4.9 in c:\\users\\ar.kim\\anaconda3\\lib\\site-packages (from selenium) (4.11.0)\n",
      "Requirement already satisfied: websocket-client~=1.8 in c:\\users\\ar.kim\\anaconda3\\lib\\site-packages (from selenium) (1.8.0)\n",
      "Requirement already satisfied: attrs>=23.2.0 in c:\\users\\ar.kim\\anaconda3\\lib\\site-packages (from trio~=0.17->selenium) (25.3.0)\n",
      "Requirement already satisfied: sortedcontainers in c:\\users\\ar.kim\\anaconda3\\lib\\site-packages (from trio~=0.17->selenium) (2.4.0)\n",
      "Requirement already satisfied: idna in c:\\users\\ar.kim\\anaconda3\\lib\\site-packages (from trio~=0.17->selenium) (3.7)\n",
      "Requirement already satisfied: outcome in c:\\users\\ar.kim\\anaconda3\\lib\\site-packages (from trio~=0.17->selenium) (1.3.0.post0)\n",
      "Requirement already satisfied: sniffio>=1.3.0 in c:\\users\\ar.kim\\anaconda3\\lib\\site-packages (from trio~=0.17->selenium) (1.3.0)\n",
      "Requirement already satisfied: cffi>=1.14 in c:\\users\\ar.kim\\anaconda3\\lib\\site-packages (from trio~=0.17->selenium) (1.17.1)\n",
      "Requirement already satisfied: wsproto>=0.14 in c:\\users\\ar.kim\\anaconda3\\lib\\site-packages (from trio-websocket~=0.9->selenium) (1.2.0)\n",
      "Requirement already satisfied: pysocks!=1.5.7,<2.0,>=1.5.6 in c:\\users\\ar.kim\\anaconda3\\lib\\site-packages (from urllib3[socks]<3,>=1.26->selenium) (1.7.1)\n",
      "Requirement already satisfied: pycparser in c:\\users\\ar.kim\\anaconda3\\lib\\site-packages (from cffi>=1.14->trio~=0.17->selenium) (2.21)\n",
      "Requirement already satisfied: h11<1,>=0.9.0 in c:\\users\\ar.kim\\anaconda3\\lib\\site-packages (from wsproto>=0.14->trio-websocket~=0.9->selenium) (0.14.0)\n",
      "Note: you may need to restart the kernel to use updated packages.\n"
     ]
    }
   ],
   "source": [
    "pip install selenium"
   ]
  },
  {
   "cell_type": "code",
   "execution_count": 13,
   "id": "de605f7d-02c1-4f14-b17c-dea8d8b80dca",
   "metadata": {},
   "outputs": [],
   "source": [
    "'''\n",
    "[webdriver]\n",
    "\n",
    "- 셀레니움에서 웹 브라우저를 제어하는 webdriver 모듈을 불러온다.\n",
    "- webdriver : 셀레니움에서 웹 브라우저를 실제로 제어하는 기능을 가진 모듈(도구)\n",
    "- 셀레니움이 웹사이트를 자동으로 열고, 클릭하고, 입력하고, 스크린샷 찍고,,, 등 이런 모든 작업을 가능하게 해주는 핵심\n",
    "'''\n",
    "from selenium import webdriver\n",
    "\n",
    "# Chrome 브라우저를 실행하는 객체 생성 (크롬드라이버가 설치되어 있어야 함)\n",
    "driver = webdriver.Chrome()\n",
    "\n",
    "# get() : 브라우저에게 특정 웹페이지를 열라고 지시하는 명령어이다.\n",
    "driver.get(\"https://www.naver.com/\")\n",
    "driver.get(\"https://www.google.com/\")"
   ]
  }
 ],
 "metadata": {
  "kernelspec": {
   "display_name": "Python [conda env:base] *",
   "language": "python",
   "name": "conda-base-py"
  },
  "language_info": {
   "codemirror_mode": {
    "name": "ipython",
    "version": 3
   },
   "file_extension": ".py",
   "mimetype": "text/x-python",
   "name": "python",
   "nbconvert_exporter": "python",
   "pygments_lexer": "ipython3",
   "version": "3.12.7"
  }
 },
 "nbformat": 4,
 "nbformat_minor": 5
}
