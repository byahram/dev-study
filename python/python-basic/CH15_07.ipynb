{
 "cells": [
  {
   "cell_type": "code",
   "execution_count": null,
   "id": "5830b429-eaf1-4dab-ac83-2c899ad4f537",
   "metadata": {},
   "outputs": [],
   "source": [
    "pip uninstall webdriver-manager"
   ]
  },
  {
   "cell_type": "code",
   "execution_count": null,
   "id": "23123aea-2ddf-48ae-8e8e-153309153e91",
   "metadata": {},
   "outputs": [],
   "source": [
    "pip install --upgrade webdriver-manager"
   ]
  },
  {
   "cell_type": "code",
   "execution_count": null,
   "id": "ce684715-e2fe-4bd2-9591-46d834ffabc6",
   "metadata": {},
   "outputs": [],
   "source": [
    "'''\n",
    "2025.04.22 화\n",
    "\n",
    "예제 7 : 브라우저 스크린샷 저장\n",
    "'''\n",
    "\n",
    "from selenium import webdriver\n",
    "from selenium.webdriver.chrome.service import Service\n",
    "from selenium.webdriver.common.by import By\n",
    "\n",
    "# 브라우저 실행 시의 다양한 옵션을 설정할 수 있는 모듈\n",
    "from selenium.webdriver.chrome.options import Options\n",
    "\n",
    "# 크롬 드라이버를 자동으로 설치하고 경로를 설정해주는 도구\n",
    "from webdriver_manager.chrome import ChromeDriverManager\n",
    "import time\n",
    "\n",
    "# 드라이버 매니저를 통해 크롬 드라이버 자동 설치 및 실행\n",
    "\n",
    "driver = webdriver.Chrome(\n",
    "    service=Service(ChromeDriverManager().install())\n",
    ")\n",
    "\n",
    "# 네이버 메인 페이지 열기\n",
    "driver.get(\"https://naver.com\")\n",
    "\n",
    "'''\n",
    "[sleep()]\n",
    "\n",
    "- 코드를 잠깐 멈추는 함수\n",
    "- 페이지가 완전히 로드될 수 있도록 2초간 대기\n",
    "- 괄호 안 숫자(초)만큼 일시정지하고 기다리는 것\n",
    "'''\n",
    "time.sleep(2)\n",
    "\n",
    "'''\n",
    "[save_screenshot()]\n",
    "\n",
    "- 현재 브라우저 화면을 이미지 파일로 저장해주는 함수\n",
    "- 현재 브라우저 화면을 이미지 파일로 저장\n",
    "'''\n",
    "driver.save_screenshot(\"naver_main.png\")\n",
    "\n",
    "# 완료 메시지 출력\n",
    "print(\"스크린샷 저장 완료!\")\n",
    "\n",
    "# 브라우저 종료 (선택)\n",
    "driver.quit()"
   ]
  },
  {
   "cell_type": "code",
   "execution_count": null,
   "id": "fcb8ccc6-f293-4459-89f0-9eca18e66c3f",
   "metadata": {},
   "outputs": [],
   "source": []
  }
 ],
 "metadata": {
  "kernelspec": {
   "display_name": "Python [conda env:base] *",
   "language": "python",
   "name": "conda-base-py"
  },
  "language_info": {
   "codemirror_mode": {
    "name": "ipython",
    "version": 3
   },
   "file_extension": ".py",
   "mimetype": "text/x-python",
   "name": "python",
   "nbconvert_exporter": "python",
   "pygments_lexer": "ipython3",
   "version": "3.12.7"
  }
 },
 "nbformat": 4,
 "nbformat_minor": 5
}
