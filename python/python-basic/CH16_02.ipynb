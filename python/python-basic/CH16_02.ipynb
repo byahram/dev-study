{
 "cells": [
  {
   "cell_type": "code",
   "execution_count": 3,
   "id": "195443e8-4373-4607-98d5-3a17eb06023f",
   "metadata": {},
   "outputs": [
    {
     "name": "stdout",
     "output_type": "stream",
     "text": [
      "스크롤 1회 완료\n",
      "스크롤 2회 완료\n",
      "스크롤 3회 완료\n",
      "스크롤 4회 완료\n",
      "스크롤 5회 완료\n",
      "무한 스크롤 테스트 완료!\n"
     ]
    }
   ],
   "source": [
    "'''\n",
    "2025.04.24 목\n",
    "\n",
    "[무한 스크롤]\n",
    "'''\n",
    "\n",
    "from selenium import webdriver\n",
    "from selenium.webdriver.common.by import By    # 요소를 찾을 때 사용하는 방식 (ID, CLASS_NAME 등)을 지정할 수 있게 한다.\n",
    "from selenium.webdriver.chrome.service import Service\n",
    "from webdriver_manager.chrome import ChromeDriverManager\n",
    "\n",
    "import time\n",
    "\n",
    "\n",
    "# 크롬 드라이버 실행\n",
    "driver = webdriver.Chrome(service=Service(ChromeDriverManager().install()))\n",
    "\n",
    "# 1. 로그인 페이지 열기\n",
    "driver.get(\"https://the-internet.herokuapp.com/infinite_scroll\")\n",
    "\n",
    "# 2. 페이지 로딩 기다리기\n",
    "time.sleep(2)\n",
    "\n",
    "# 3. 스크롤 5번 내리기 (원하는 횟수로 range 숫자를 조정)\n",
    "for i in range(5) :\n",
    "    # 자바스크립트를 이용해 현재 페이지의 맨 아래로 스크롤 이동\n",
    "    # window : 현재 브라우저 창(탭)을 의미함\n",
    "    # .scrollTo(x, y) : 브라우저 화면을 좌표(x, y)로 이동해 주는 함수\n",
    "    # document.body.scrollHeight :y축 좌표 = 페이지의 전체 높이, 이 값을 넣으면 페이지의 가장 아래로 이동하게 된다.\n",
    "    driver.execute_script(\"window.scrollTo(0, document.body.scrollHeight);\")\n",
    "    print(f\"스크롤 {i + 1}회 완료\")\n",
    "    time.sleep(2)\n",
    "\n",
    "# 4. 완료메시지\n",
    "print(\"무한 스크롤 테스트 완료!\")\n",
    "\n",
    "driver.quit()"
   ]
  },
  {
   "cell_type": "code",
   "execution_count": null,
   "id": "5ebe4759-40b8-4072-be10-850eadf1296f",
   "metadata": {},
   "outputs": [],
   "source": []
  }
 ],
 "metadata": {
  "kernelspec": {
   "display_name": "Python [conda env:base] *",
   "language": "python",
   "name": "conda-base-py"
  },
  "language_info": {
   "codemirror_mode": {
    "name": "ipython",
    "version": 3
   },
   "file_extension": ".py",
   "mimetype": "text/x-python",
   "name": "python",
   "nbconvert_exporter": "python",
   "pygments_lexer": "ipython3",
   "version": "3.12.7"
  }
 },
 "nbformat": 4,
 "nbformat_minor": 5
}
