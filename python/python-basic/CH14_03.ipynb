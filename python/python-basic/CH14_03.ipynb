{
 "cells": [
  {
   "cell_type": "code",
   "execution_count": 94,
   "id": "d15ee29d-168d-4305-9234-2d379d2a1e25",
   "metadata": {},
   "outputs": [],
   "source": [
    "'''\n",
    "[BeautifulSoup 기초 실습 : lxml]\n",
    "'''\n",
    "\n",
    "from bs4 import BeautifulSoup\n",
    "from urllib.request import urlopen\n",
    "\n",
    "url = \"https://www.naver.com/\"\n",
    "\n",
    "page = urlopen(url)"
   ]
  },
  {
   "cell_type": "code",
   "execution_count": 96,
   "id": "a4439ad8-cd12-4ac8-9fa5-93cf5e78eb82",
   "metadata": {
    "scrolled": true
   },
   "outputs": [],
   "source": [
    "'''\n",
    "[Section 1. 웹 페이지에서 HTML 가져오기]\n",
    "'''\n",
    "\n",
    "soup = BeautifulSoup(page, \"lxml\")\n",
    "# print(soup)"
   ]
  },
  {
   "cell_type": "code",
   "execution_count": 98,
   "id": "327469fe-18c8-470d-91c5-4246b8b87fcf",
   "metadata": {},
   "outputs": [],
   "source": [
    "'''\n",
    "[HTML 샘플 직접 파싱하기]\n",
    "\n",
    "- 문자열로 구성된 HTML을 직접 BeautifulSoup 객체로 변환할 수 있다.\n",
    "- 이를 웹 연결 없이도 파싱 테스트가 가능하다.\n",
    "'''\n",
    "\n",
    "html = \"\"\"\n",
    "<html>\n",
    "  <head>\n",
    "    <title class=\"main-title\" id=\"page-title\">My Test Page</title>\n",
    "  </head>\n",
    "  <body>\n",
    "    <div class=\"content\">\n",
    "      <p class=\"text\">Hello, world!</p>\n",
    "      <p class=\"text\">Python is fun.</p>\n",
    "      <span id=\"note\">This is a note.</span>\n",
    "      <a href=\"https://example.com\" class=\"link\">Go to Example</a>\n",
    "    </div>\n",
    "  </body>\n",
    "</html>\n",
    "\"\"\""
   ]
  },
  {
   "cell_type": "code",
   "execution_count": 100,
   "id": "c7df9d99-d773-4e98-80a8-f53f0918fc23",
   "metadata": {},
   "outputs": [
    {
     "name": "stdout",
     "output_type": "stream",
     "text": [
      "<html>\n",
      "<head>\n",
      "<title class=\"main-title\" id=\"page-title\">My Test Page</title>\n",
      "</head>\n",
      "<body>\n",
      "<div class=\"content\">\n",
      "<p class=\"text\">Hello, world!</p>\n",
      "<p class=\"text\">Python is fun.</p>\n",
      "<span id=\"note\">This is a note.</span>\n",
      "<a class=\"link\" href=\"https://example.com\">Go to Example</a>\n",
      "</div>\n",
      "</body>\n",
      "</html>\n",
      "\n"
     ]
    }
   ],
   "source": [
    "soup = BeautifulSoup(html, \"lxml\")\n",
    "print(soup)"
   ]
  },
  {
   "cell_type": "code",
   "execution_count": 102,
   "id": "da4fe80f-34e8-4955-a9ae-29b100a3dd68",
   "metadata": {},
   "outputs": [
    {
     "name": "stdout",
     "output_type": "stream",
     "text": [
      "<title class=\"main-title\" id=\"page-title\">My Test Page</title>\n",
      "{'class': ['main-title'], 'id': 'page-title'}\n",
      "['main-title']\n",
      "page-title\n"
     ]
    }
   ],
   "source": [
    "'''\n",
    "[Section 2. title 태그 추출 및 속성 확인]\n",
    "\n",
    "- HTML 태그에는 id, class, name 등 다양한 속성이 포함되어 있을 수 있다.\n",
    "- \".attrs\"를 통해 해당 태그의 속성 전체를 딕셔너리 형태로 확인할 수 있으며,\n",
    "- 개별 속성은 딕셔너리처럼 접근하거나, \".get()\"으로 조회할 수 있다.\n",
    "'''\n",
    "\n",
    "tag_title = soup.title\n",
    "print(tag_title)\n",
    "print(tag_title.attrs)    # tag_title의 모든 속성 확인(딕셔너리 형태)\n",
    "print(tag_title[\"class\"])\n",
    "print(tag_title[\"id\"])\n",
    "\n",
    "# 예외 상황\n",
    "# print(tag_title[\"classss\"])  # 존재하지 않는 속성 조회 시, keyError 발생"
   ]
  },
  {
   "cell_type": "code",
   "execution_count": 104,
   "id": "a42d1424-0ce8-4f9f-ad2d-201f49ffc40f",
   "metadata": {},
   "outputs": [
    {
     "name": "stdout",
     "output_type": "stream",
     "text": [
      "My Test Page\n",
      "My Test Page\n"
     ]
    }
   ],
   "source": [
    "'''\n",
    "[Section 3. 텍스트 추출 방법 비교]\n",
    "\n",
    "- .text : 해당 태그 안의 모든 텍스트를 포함한 문자열 반환\n",
    "- .string : 해당 태그의 직접적인 텍스트만 반환하며, 자식 태그가 여러개면 \"None\"을 반환한다.\n",
    "'''\n",
    "\n",
    "print(tag_title.text)\n",
    "print(tag_title.string)"
   ]
  },
  {
   "cell_type": "code",
   "execution_count": 106,
   "id": "6bf655f1-9a22-4500-ac67-a6980796c629",
   "metadata": {},
   "outputs": [],
   "source": [
    "'''\n",
    "[<span>이란?]\n",
    "\n",
    "- 짧은 텍스트나 요소를 묶을 때 사용하는 인라인 태그이다.\n",
    "- 의미는 없고, 디자인이나 특정 부분을 강조를 위해 사용\n",
    "- css 스타일, 색상, 클래스, ID 등을 적용할 때 주로 사용된다.\n",
    "'''\n",
    "\n",
    "html = \"\"\"<html> <head><title>test site</title></head> <body> <p><span>test1</span><span>test2</span></p> </body></html>\"\"\"\n",
    "soup = BeautifulSoup(html, \"lxml\")"
   ]
  },
  {
   "cell_type": "code",
   "execution_count": 108,
   "id": "81b85a7f-7dd3-424f-a283-f94a990fa828",
   "metadata": {},
   "outputs": [
    {
     "name": "stdout",
     "output_type": "stream",
     "text": [
      "<p><span>test1</span><span>test2</span></p>\n",
      "text : test1test2\n",
      "string : None\n"
     ]
    }
   ],
   "source": [
    "# HTML 문서 안의 <p> 태그 하나를 찾아서 변수에 저장하는 코드\n",
    "tag_p = soup.p\n",
    "\n",
    "'''\n",
    "[.text]\n",
    "\n",
    "- 모든 자식 태그 안의 텍스트까지 몽땅 가져온다.\n",
    "\n",
    "[.string]\n",
    "\n",
    "- 태그 안에 순수한 문자열만 있는 경우 사용한다. \n",
    "- 자식이 1개 텍스트 일때만 텍스트 반환하고 아니면 None을 반환\n",
    "'''\n",
    "\n",
    "print(tag_p)\n",
    "print(\"text :\", tag_p.text)\n",
    "print(\"string :\", tag_p.string)"
   ]
  },
  {
   "cell_type": "code",
   "execution_count": 110,
   "id": "0fc37a57-b964-41ad-9412-bfe4b19c4404",
   "metadata": {},
   "outputs": [
    {
     "name": "stdout",
     "output_type": "stream",
     "text": [
      "[<span>test1</span>, <span>test2</span>]\n",
      "<span>test1</span>\n",
      "<span>test2</span>\n"
     ]
    }
   ],
   "source": [
    "'''\n",
    "[Section 4. 자식 요소 접근 : contents vs children]\n",
    "\n",
    "- .contents : 자식 요소들을 리스트 형태로 반환\n",
    "- .children : 자식 요소들을 이터레이터로 반환(반복문)\n",
    "'''\n",
    "\n",
    "tag_p_contents = soup.p.contents\n",
    "print(tag_p_contents)\n",
    "\n",
    "tag_p_children = soup.p.children\n",
    "for child in tag_p_children :\n",
    "    print(child)"
   ]
  },
  {
   "cell_type": "code",
   "execution_count": 112,
   "id": "61a8db5e-18c8-4cda-8793-4cfb23f970c0",
   "metadata": {},
   "outputs": [
    {
     "name": "stdout",
     "output_type": "stream",
     "text": [
      "<p><span>test1</span><span>test2</span></p>\n",
      "<head><title>test site</title></head>\n"
     ]
    }
   ],
   "source": [
    "'''\n",
    "[Section 5. 부모 및 조상 요소 접근]\n",
    "\n",
    "- .parent : 해당 태그의 부모 태그 반환\n",
    "- .parents : 해당 태그의 모든 조상 태그를 반복 가능한 객체로 반환\n",
    "'''\n",
    "\n",
    "tag_span = soup.span      # soup 에서 첫번째 <span> 태그를 가져와서 tag_span에 저장\n",
    "print(tag_span.parent)    # tag_span의 부모 태그를 출력 -> <p> 태그가 나올 것\n",
    "\n",
    "tag_title = soup.title    # soup에서 <title> 태그를 가져와서 tag_title에 저장\n",
    "print(tag_title.parent)   # tag_title의 부모 태그 출력 -> <head> 태그가 나올것"
   ]
  },
  {
   "cell_type": "code",
   "execution_count": 114,
   "id": "8964f49a-64b7-4507-b1cf-1cbaa2344c63",
   "metadata": {},
   "outputs": [
    {
     "name": "stdout",
     "output_type": "stream",
     "text": [
      "<p><span>test1</span><span>test2</span></p>\n",
      "<body> <p><span>test1</span><span>test2</span></p> </body>\n",
      "<html> <head><title>test site</title></head> <body> <p><span>test1</span><span>test2</span></p> </body></html>\n",
      "<html> <head><title>test site</title></head> <body> <p><span>test1</span><span>test2</span></p> </body></html>\n"
     ]
    }
   ],
   "source": [
    "'''\n",
    "[tag_span이 속해 있는 모든 부모 태그를 거슬러 올라가며 출력]\n",
    "\n",
    "* 출력 순서\n",
    "    1. <p>\n",
    "    2. <body> -> <p>의 부모\n",
    "    3. <html> -> <body>의 부모\n",
    "    4. None -> <>\n",
    "'''\n",
    "\n",
    "for parent in tag_span.parents :\n",
    "    print(parent)"
   ]
  }
 ],
 "metadata": {
  "kernelspec": {
   "display_name": "Python [conda env:base] *",
   "language": "python",
   "name": "conda-base-py"
  },
  "language_info": {
   "codemirror_mode": {
    "name": "ipython",
    "version": 3
   },
   "file_extension": ".py",
   "mimetype": "text/x-python",
   "name": "python",
   "nbconvert_exporter": "python",
   "pygments_lexer": "ipython3",
   "version": "3.12.7"
  }
 },
 "nbformat": 4,
 "nbformat_minor": 5
}
