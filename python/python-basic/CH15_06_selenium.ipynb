{
 "cells": [
  {
   "cell_type": "code",
   "execution_count": 5,
   "id": "ecc38df6-0eb5-4d3a-adec-c421aa39334f",
   "metadata": {},
   "outputs": [
    {
     "name": "stdout",
     "output_type": "stream",
     "text": [
      "https://www.google.com 열렸습니다.\n"
     ]
    },
    {
     "name": "stdin",
     "output_type": "stream",
     "text": [
      "다음으로 넘어가려면 '확인'을 입력하세요. : 확인\n"
     ]
    },
    {
     "name": "stdout",
     "output_type": "stream",
     "text": [
      "https://www.naver.com 열렸습니다.\n"
     ]
    },
    {
     "name": "stdin",
     "output_type": "stream",
     "text": [
      "다음으로 넘어가려면 '확인'을 입력하세요. : 확인\n"
     ]
    },
    {
     "name": "stdout",
     "output_type": "stream",
     "text": [
      "https://www.daum.net 열렸습니다.\n"
     ]
    },
    {
     "name": "stdin",
     "output_type": "stream",
     "text": [
      "다음으로 넘어가려면 '확인'을 입력하세요. : 확인\n"
     ]
    },
    {
     "name": "stdout",
     "output_type": "stream",
     "text": [
      "모든 사이트 확인 완료, 브라우저를 종료했습니다.\n"
     ]
    }
   ],
   "source": [
    "'''\n",
    "2025.04.22 화\n",
    "\n",
    "예제 6 : 여러 사이트 자동으로 열기\n",
    "'''\n",
    "\n",
    "from selenium import webdriver\n",
    "\n",
    "'''\n",
    "[service 객체]\n",
    "\n",
    "- 크롬 드라이버를 제어하기 위한 service 객체 (필요시 사용)\n",
    "- 크롬 드라이버를 정식으로 실행하는 방법\n",
    "'''\n",
    "from selenium.webdriver.chrome.service import Service\n",
    "\n",
    "'''\n",
    "[웹 요소를 찾기 위한 기능]\n",
    "\n",
    "- By.ID, By.Class_Name등 사용할 수 있음\n",
    "- By.ID, By.class_Name : html요소를 찾는 기준을 정해주는 방법이다. \"검색 조건\"\n",
    "- By.ID -> id = \"...\"\n",
    "- By.CLASS+NAME -> class = \"...\"\n",
    "'''\n",
    "from selenium.webdriver.common.by import By\n",
    "\n",
    "# 코드 실행 중 일시정지를 위한 time 모듈\n",
    "import time\n",
    "\n",
    "# 크롬 드라이버 실행\n",
    "driver = webdriver.Chrome()\n",
    "\n",
    "# 열고 싶은 사이트들을 리스트로 정의\n",
    "urls = [\n",
    "    \"https://www.google.com\",\n",
    "    \"https://www.naver.com\",\n",
    "    \"https://www.daum.net\"\n",
    "]\n",
    "\n",
    "# 리스트에 있는 url들을 하나씩 반복하며 열기\n",
    "for url in urls :\n",
    "    # 현재 url로 이동\n",
    "    driver.get(url)\n",
    "    \n",
    "    # 콘솔에 안내 메시지 출력\n",
    "    print(f\"{url} 열렸습니다.\")\n",
    "    \n",
    "    # 사용자가 직접 확인 후 엔터 입력 대기(일시 정지 역할)\n",
    "    # input(\"확인했으면 엔터를 눌러주세요!\")\n",
    "\n",
    "    # '확인' 입력해야 다음으로 넘어감\n",
    "    while True :\n",
    "        user_input = input(\"다음으로 넘어가려면 '확인'을 입력하세요. :\")\n",
    "        if user_input == \"확인\" :\n",
    "            break\n",
    "        else :\n",
    "            print(\"확인을 정확히 입력해주세요.\")\n",
    "        \n",
    "# 반복이 끝나면 크롬 브라우저 전체 종료\n",
    "driver.quit()\n",
    "\n",
    "print(\"모든 사이트 확인 완료, 브라우저를 종료했습니다.\")"
   ]
  }
 ],
 "metadata": {
  "kernelspec": {
   "display_name": "Python [conda env:base] *",
   "language": "python",
   "name": "conda-base-py"
  },
  "language_info": {
   "codemirror_mode": {
    "name": "ipython",
    "version": 3
   },
   "file_extension": ".py",
   "mimetype": "text/x-python",
   "name": "python",
   "nbconvert_exporter": "python",
   "pygments_lexer": "ipython3",
   "version": "3.12.7"
  }
 },
 "nbformat": 4,
 "nbformat_minor": 5
}
