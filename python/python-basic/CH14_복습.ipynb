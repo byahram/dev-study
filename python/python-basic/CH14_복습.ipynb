{
 "cells": [
  {
   "cell_type": "code",
   "execution_count": 1,
   "id": "e60218ae-8e42-400b-86f6-7a6696d6c577",
   "metadata": {},
   "outputs": [],
   "source": [
    "from bs4 import BeautifulSoup\n",
    "from urllib.request import urlopen"
   ]
  },
  {
   "cell_type": "code",
   "execution_count": 7,
   "id": "f63259b3-3dc7-442c-8b8a-9ed92b51326a",
   "metadata": {},
   "outputs": [
    {
     "name": "stdout",
     "output_type": "stream",
     "text": [
      "<html>\n",
      "<head>\n",
      "<title class=\"main-title\" id=\"t-id\">Movie Review - April</title>\n",
      "</head>\n",
      "<body>\n",
      "<div>\n",
      "<p class=\"desc\">어제 본 영화는 <span>인셉션</span>이었습니다.</p>\n",
      "<p class=\"desc\">가장 인상 깊었던 장면은 <span>중력 무중력 액션</span>이에요.</p>\n",
      "</div>\n",
      "</body>\n",
      "</html>\n",
      "\n"
     ]
    }
   ],
   "source": [
    "html = \"\"\"\n",
    "<html>\n",
    "  <head>\n",
    "    <title class=\"main-title\" id=\"t-id\">Movie Review - April</title>\n",
    "  </head>\n",
    "  <body>\n",
    "    <div>\n",
    "      <p class=\"desc\">어제 본 영화는 <span>인셉션</span>이었습니다.</p>\n",
    "      <p class=\"desc\">가장 인상 깊었던 장면은 <span>중력 무중력 액션</span>이에요.</p>\n",
    "    </div>\n",
    "  </body>\n",
    "</html>\n",
    "\"\"\"\n",
    "\n",
    "soup = BeautifulSoup(html, \"lxml\")\n",
    "print(soup)"
   ]
  },
  {
   "cell_type": "code",
   "execution_count": 16,
   "id": "cbf3d521-2467-4ade-b87a-cb9981e0efc9",
   "metadata": {},
   "outputs": [
    {
     "name": "stdout",
     "output_type": "stream",
     "text": [
      "<title class=\"main-title\" id=\"t-id\">Movie Review - April</title>\n",
      "Movie Review - April\n"
     ]
    }
   ],
   "source": [
    "'''\n",
    "[문제 1. title 태그 전체와 텍스트 출력]\n",
    "'''\n",
    "\n",
    "tag_title = soup.title\n",
    "print(tag_title)\n",
    "print(tag_title.text)"
   ]
  },
  {
   "cell_type": "code",
   "execution_count": 18,
   "id": "3df48b83-a19d-466b-9ce3-03c191039d4a",
   "metadata": {},
   "outputs": [
    {
     "name": "stdout",
     "output_type": "stream",
     "text": [
      "{'class': ['main-title'], 'id': 't-id'}\n",
      "['main-title']\n",
      "t-id\n"
     ]
    }
   ],
   "source": [
    "'''\n",
    "[문제 2. title 태그의 속성 딕셔너리 출력]\n",
    "'''\n",
    "\n",
    "print(tag_title.attrs) \n",
    "print(tag_title[\"class\"])\n",
    "print(tag_title[\"id\"])"
   ]
  },
  {
   "cell_type": "code",
   "execution_count": 20,
   "id": "28a31263-590a-4405-ace7-b1626571ff73",
   "metadata": {},
   "outputs": [
    {
     "name": "stdout",
     "output_type": "stream",
     "text": [
      "text: 어제 본 영화는 인셉션이었습니다.\n",
      "string: None\n"
     ]
    }
   ],
   "source": [
    "'''\n",
    "[문제 3 .text vs .string]\n",
    "'''\n",
    "\n",
    "tag_p = soup.p \n",
    "print(\"text:\", tag_p.text)\n",
    "print(\"string:\", tag_p.string)"
   ]
  },
  {
   "cell_type": "code",
   "execution_count": 22,
   "id": "6295db94-081b-44ef-b93d-78efb5435b38",
   "metadata": {},
   "outputs": [
    {
     "name": "stdout",
     "output_type": "stream",
     "text": [
      "contents: ['어제 본 영화는 ', <span>인셉션</span>, '이었습니다.']\n",
      "child: 어제 본 영화는 \n",
      "child: <span>인셉션</span>\n",
      "child: 이었습니다.\n"
     ]
    }
   ],
   "source": [
    "'''\n",
    "[문제 4. 자식 요소 접근]\n",
    "'''\n",
    "\n",
    "tag_p_contents = soup.p.contents\n",
    "print(\"contents:\", tag_p_contents)\n",
    "\n",
    "tag_p_children = soup.p.children\n",
    "for child in tag_p_children :\n",
    "    print(\"child:\", child)"
   ]
  },
  {
   "cell_type": "code",
   "execution_count": 27,
   "id": "48aa4781-9c20-425b-9f36-fa7a14120ad5",
   "metadata": {},
   "outputs": [
    {
     "name": "stdout",
     "output_type": "stream",
     "text": [
      "부모: <p class=\"desc\">어제 본 영화는 <span>인셉션</span>이었습니다.</p>\n",
      "부모 태그: p\n",
      "조상 태그들:\n",
      "- p\n",
      "- div\n",
      "- body\n",
      "- html\n",
      "- [document]\n"
     ]
    }
   ],
   "source": [
    "'''\n",
    "[문제 5. 부모 및 조상 요소 접근]\n",
    "'''\n",
    "\n",
    "tag_span = soup.find(\"span\")\n",
    "print(\"부모:\", tag_span.parent)\n",
    "print(\"부모 태그:\", tag_span.parent.name)\n",
    "\n",
    "print(\"조상 태그들:\")\n",
    "for parent in tag_span.parents :\n",
    "    print(\"-\", parent.name)"
   ]
  }
 ],
 "metadata": {
  "kernelspec": {
   "display_name": "Python [conda env:base] *",
   "language": "python",
   "name": "conda-base-py"
  },
  "language_info": {
   "codemirror_mode": {
    "name": "ipython",
    "version": 3
   },
   "file_extension": ".py",
   "mimetype": "text/x-python",
   "name": "python",
   "nbconvert_exporter": "python",
   "pygments_lexer": "ipython3",
   "version": "3.12.7"
  }
 },
 "nbformat": 4,
 "nbformat_minor": 5
}
