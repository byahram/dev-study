{
 "cells": [
  {
   "cell_type": "code",
   "execution_count": 45,
   "id": "35116033-9b49-4a87-a297-1945f4cfe6ba",
   "metadata": {},
   "outputs": [],
   "source": [
    "'''\n",
    "2025.04.22 화\n",
    "\n",
    "예제 3 : 뉴스 본문 내용 + 요약 (w/정규 표현식)\n",
    "'''\n",
    "\n",
    "'''\n",
    "[정규 표현식]\n",
    "\n",
    "- 문자나 기호로 만든 검색 패턴\n",
    "- \"특정 조건에 맞는 문자\"를 찾고, 검사하고, 바꾸고, 추출할 수 있다.\n",
    "\n",
    "[언제 사용할까?]\n",
    "- 이메일 주소 뽑기, 전화번호 찾기, 문서에서 특정 문장만 걸러내기, 주문등록번호, 학번, 특정 포맷 감지\n",
    "- 웹 크롤링 중 원하는 텍스트만 추출\n",
    "'''\n",
    "\n",
    "import re    # 정규 표현식을 다루기 위한 표준 라이브러리"
   ]
  },
  {
   "cell_type": "code",
   "execution_count": 47,
   "id": "5867c7c2-7bbf-4189-8515-77dd117a56fe",
   "metadata": {},
   "outputs": [
    {
     "name": "stdout",
     "output_type": "stream",
     "text": [
      "숫자만 추출  ['2025', '4', '22']\n"
     ]
    }
   ],
   "source": [
    "r'''\n",
    "[숫자 추출]\n",
    "\n",
    "- \\d \"숫자 하나\"  + -> 1개 이상 반복-즉, 숫자가 연속된 부분을 찾겠다.\n",
    "- findall : 정규 표현식 p에 맞는 모든 값을 찾아서 리스트로 반환\n",
    "'''\n",
    "\n",
    "text = \"오늘은 2025년 4월 22일입니다\"\n",
    "\n",
    "pattern = r\"\\d+\"\n",
    "\n",
    "numbers = re.findall(pattern, text)\n",
    "\n",
    "print(\"숫자만 추출 \", numbers)"
   ]
  },
  {
   "cell_type": "code",
   "execution_count": 49,
   "id": "de006dea-54bd-479e-887c-b9be93d02f62",
   "metadata": {},
   "outputs": [
    {
     "name": "stdout",
     "output_type": "stream",
     "text": [
      "이메일  ['contact@naver.com', 'help@gmail.com']\n"
     ]
    }
   ],
   "source": [
    "r'''\n",
    "[이메일 주소 추출]\n",
    "\n",
    ">>> \\w+@\\w+\\.\\w+\n",
    "\n",
    "- \\w+ : 영문자, 숫자, 밑줄 중 하나 이상(사용자 이름 또는 도메인 앞부분)\n",
    "- @ : 골뱅이 문자 그대로 찾음\n",
    "- \\w+ : 골뱅이 뒤의 도메인 이름\n",
    "- \\. : 마침표를 의미함\n",
    "- \\w+ : com.net.org 같은 도메인 확장자 부분\n",
    "'''\n",
    "\n",
    "text = \"문의는 contact@naver.com 또는 help@gmail.com 으로 주세요.\"\n",
    "\n",
    "pattern = r\"\\w+@\\w+\\.\\w+\"\n",
    "\n",
    "email = re.findall(pattern, text)\n",
    "\n",
    "print(\"이메일 \", email)"
   ]
  },
  {
   "cell_type": "code",
   "execution_count": 41,
   "id": "e81dd2aa-c427-405a-98b4-828e6a2c8b59",
   "metadata": {},
   "outputs": [
    {
     "name": "stdout",
     "output_type": "stream",
     "text": [
      "한글 단어  ['안녕하세요']\n"
     ]
    }
   ],
   "source": [
    "r'''\n",
    "[한글만 추출]\n",
    "\n",
    "- 한글로 이루어진 단어들만 뽑아내는 정규식\n",
    "- [가-힣] : 유니코드 상 한글 완성형 글자 범위\n",
    "- 영어 단어만 찾고 싶으면 [a-zA-Z]+\n",
    "- 숫자만 찾고 싶으면 \\d+\n",
    "- 한글+영어 [가-힣a-zA-Z]\n",
    "'''\n",
    "\n",
    "text = \"hello 안녕하세요 123\"\n",
    "\n",
    "pattern = r\"[가-힣]+\"\n",
    "\n",
    "ko = re.findall(pattern, text)\n",
    "\n",
    "print(\"한글 단어 \", ko)"
   ]
  }
 ],
 "metadata": {
  "kernelspec": {
   "display_name": "Python [conda env:base] *",
   "language": "python",
   "name": "conda-base-py"
  },
  "language_info": {
   "codemirror_mode": {
    "name": "ipython",
    "version": 3
   },
   "file_extension": ".py",
   "mimetype": "text/x-python",
   "name": "python",
   "nbconvert_exporter": "python",
   "pygments_lexer": "ipython3",
   "version": "3.12.7"
  }
 },
 "nbformat": 4,
 "nbformat_minor": 5
}
