{
  "nbformat": 4,
  "nbformat_minor": 0,
  "metadata": {
    "colab": {
      "provenance": []
    },
    "kernelspec": {
      "name": "python3",
      "display_name": "Python 3"
    },
    "language_info": {
      "name": "python"
    }
  },
  "cells": [
    {
      "cell_type": "code",
      "execution_count": null,
      "metadata": {
        "colab": {
          "base_uri": "https://localhost:8080/"
        },
        "id": "CScm7KHMyJhv",
        "outputId": "dd2c625f-f96f-4ad1-b0c5-b13b96864bb6"
      },
      "outputs": [
        {
          "output_type": "stream",
          "name": "stdout",
          "text": [
            "https://www.google.com/?key1=value1&key2=value2\n"
          ]
        }
      ],
      "source": [
        "import requests as rq\n",
        "\n",
        "url = \"https://www.google.com/\"\n",
        "\n",
        "res = rq.get(url, params={\"key1\":\"value1\", \"key2\":\"value2\"})\n",
        "print(res.url)"
      ]
    }
  ]
}