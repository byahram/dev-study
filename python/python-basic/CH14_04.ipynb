{
 "cells": [
  {
   "cell_type": "code",
   "execution_count": 47,
   "id": "15259562-e1fe-4bb4-a5de-ba888a6a7edd",
   "metadata": {},
   "outputs": [],
   "source": [
    "from bs4 import BeautifulSoup\n",
    "from urllib.request import urlopen"
   ]
  },
  {
   "cell_type": "code",
   "execution_count": 49,
   "id": "334015e1-9517-4150-8fd7-a53a765e6091",
   "metadata": {},
   "outputs": [],
   "source": [
    "html = \"\"\"\n",
    "<html>\n",
    "  <head>\n",
    "    <title class=\"main-title\" id=\"t-id\">Welcome to My Page</title>\n",
    "  </head>\n",
    "  <body>\n",
    "    <div>\n",
    "      <p class=\"desc\">오늘은 <span>파이썬</span>을 배우는 날입니다.</p>\n",
    "      <p class=\"desc\">HTML과 <span>BeautifulSoup</span>을 함께 배워요.</p>\n",
    "    </div>\n",
    "  </body>\n",
    "</html>\n",
    "\"\"\""
   ]
  },
  {
   "cell_type": "code",
   "execution_count": 51,
   "id": "50fdf987-e37f-437b-b18f-89593cca3a3f",
   "metadata": {},
   "outputs": [
    {
     "name": "stdout",
     "output_type": "stream",
     "text": [
      "<title class=\"main-title\" id=\"t-id\">Welcome to My Page</title>\n",
      "Welcome to My Page\n"
     ]
    }
   ],
   "source": [
    "'''\n",
    "[문제 1. title 태그 전체와 텍스트 출력]\n",
    "'''\n",
    "\n",
    "tag_title = soup.title\n",
    "print(tag_title)\n",
    "print(tag_title.text)"
   ]
  },
  {
   "cell_type": "code",
   "execution_count": 53,
   "id": "5ee0e0b5-561e-4613-a129-775d7f337c93",
   "metadata": {},
   "outputs": [
    {
     "name": "stdout",
     "output_type": "stream",
     "text": [
      "{'class': ['main-title'], 'id': 't-id'}\n",
      "['main-title']\n",
      "t-id\n"
     ]
    }
   ],
   "source": [
    "'''\n",
    "[문제 2. title 태그의 속성 딕셔너리 출력]\n",
    "'''\n",
    "\n",
    "print(tag_title.attrs) \n",
    "print(tag_title[\"class\"])\n",
    "print(tag_title[\"id\"])"
   ]
  },
  {
   "cell_type": "code",
   "execution_count": 55,
   "id": "b3d4bb2c-cfd7-483e-b19f-aa3d97d0076d",
   "metadata": {},
   "outputs": [
    {
     "name": "stdout",
     "output_type": "stream",
     "text": [
      "text: 오늘은 파이썬을 배우는 날입니다.\n",
      "string: None\n"
     ]
    }
   ],
   "source": [
    "'''\n",
    "[문제 3. .text vs .string 차이 확인]\n",
    "'''\n",
    "\n",
    "tag_p = soup.p \n",
    "print(\"text:\", tag_p.text)\n",
    "print(\"string:\", tag_p.string)"
   ]
  },
  {
   "cell_type": "code",
   "execution_count": 57,
   "id": "daee8546-867c-4adb-8881-5aafb9a8e87c",
   "metadata": {},
   "outputs": [
    {
     "name": "stdout",
     "output_type": "stream",
     "text": [
      "contents: ['오늘은 ', <span>파이썬</span>, '을 배우는 날입니다.']\n",
      "child: 오늘은 \n",
      "child: <span>파이썬</span>\n",
      "child: 을 배우는 날입니다.\n"
     ]
    }
   ],
   "source": [
    "'''\n",
    "[문제 4. 자식 요소 접근 (contents, children)]\n",
    "'''\n",
    "\n",
    "tag_p_contents = soup.p.contents\n",
    "print(\"contents:\", tag_p_contents)\n",
    "\n",
    "tag_p_children = soup.p.children\n",
    "for child in tag_p_children :\n",
    "    print(\"child:\", child)"
   ]
  },
  {
   "cell_type": "code",
   "execution_count": 59,
   "id": "10b041d9-1159-4409-857c-51f6f6e1c731",
   "metadata": {},
   "outputs": [
    {
     "name": "stdout",
     "output_type": "stream",
     "text": [
      "부모: <p class=\"desc\">오늘은 <span>파이썬</span>을 배우는 날입니다.</p>\n",
      "부모 태그: p\n",
      "조상 태그들:\n",
      "- p\n",
      "- div\n",
      "- body\n",
      "- html\n",
      "- [document]\n"
     ]
    }
   ],
   "source": [
    "'''\n",
    "[문제 5. 부모 및 조상 요소 접근]\n",
    "'''\n",
    "\n",
    "tag_span = soup.find(\"span\")\n",
    "print(\"부모:\", tag_span.parent)\n",
    "print(\"부모 태그:\", tag_span.parent.name)\n",
    "\n",
    "print(\"조상 태그들:\")\n",
    "for parent in tag_span.parents :\n",
    "    print(\"-\", parent.name)"
   ]
  }
 ],
 "metadata": {
  "kernelspec": {
   "display_name": "Python [conda env:base] *",
   "language": "python",
   "name": "conda-base-py"
  },
  "language_info": {
   "codemirror_mode": {
    "name": "ipython",
    "version": 3
   },
   "file_extension": ".py",
   "mimetype": "text/x-python",
   "name": "python",
   "nbconvert_exporter": "python",
   "pygments_lexer": "ipython3",
   "version": "3.12.7"
  }
 },
 "nbformat": 4,
 "nbformat_minor": 5
}
