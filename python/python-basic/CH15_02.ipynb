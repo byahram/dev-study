{
 "cells": [
  {
   "cell_type": "code",
   "execution_count": 5,
   "id": "5f82c789-cbc6-4af1-8863-18906ba4c906",
   "metadata": {},
   "outputs": [
    {
     "name": "stdout",
     "output_type": "stream",
     "text": [
      "엑셀 저장 완료!\n"
     ]
    }
   ],
   "source": [
    "'''\n",
    "2025.04.22 화\n",
    "\n",
    "예제 2 : 뉴스 제목 + 링크 + 이미지 크롤링 + 엑셀 저장\n",
    "'''\n",
    "\n",
    "import requests\n",
    "from bs4 import BeautifulSoup\n",
    "import pandas as pd\n",
    "\n",
    "url = \"https://news.naver.com/section/103\"\n",
    "\n",
    "headers = {\n",
    "    \"User-Agent\" : \"Mozilla/5.0\"\n",
    "}\n",
    "\n",
    "res = requests.get(url, headers = headers)\n",
    "\n",
    "soup = BeautifulSoup(res.text, \"lxml\")\n",
    "\n",
    "news_list = soup.select(\"a.sa_text_title\")\n",
    "\n",
    "# 각 뉴스의 제목, 링크, 이미지 url을 저장 빈 리스트 생성\n",
    "titles = []\n",
    "links = []\n",
    "images = []\n",
    "\n",
    "for i, a_tag in enumerate(news_list, start = 1) :\n",
    "    \n",
    "    # 뉴스 제목 텍스트 추출 (공백 제거)\n",
    "    title = a_tag.get_text(strip = True)\n",
    "\n",
    "    # 뉴스 기사 링크 추출 (a 태그의 href 속성)\n",
    "    link = a_tag[\"href\"]\n",
    "\n",
    "    # 뉴스 이미지 추출\n",
    "    parent_li = a_tag.find_parent(\"li\")\n",
    "\n",
    "    img_tag = parent_li.select_one(\"img\") if parent_li else None\n",
    "\n",
    "    # 뉴스 이미지 URL 추출\n",
    "    if img_tag and img_tag.has_attr(\"data-src\") :\n",
    "        img_url = img_tag[\"data-src\"]\n",
    "    elif img_tag and img_tag.has_attr(\"src\") :\n",
    "        img_url = img_tag[\"src\"]\n",
    "    else :\n",
    "        img_url = \"이미지 없음\"\n",
    "\n",
    "    # 각각의 리스트에 수집한 데이터를 추가\n",
    "    titles.append(title)\n",
    "    links.append(link)\n",
    "    images.append(img_url)\n",
    "\n",
    "# 수집한 데이터를 DataFrame(표 형태)으로 변환\n",
    "df = pd.DataFrame({\n",
    "    \"제목\" : titles,\n",
    "    \"링크\" : links,\n",
    "    \"이미지\" : images\n",
    "})\n",
    "\n",
    "# DataFrame을 엑셀 파일로 저장\n",
    "df.to_excel(\"naver_news.xlsx\", index=False)\n",
    "\n",
    "# 저장 완료 메시지 출력\n",
    "print(\"엑셀 저장 완료!\")"
   ]
  },
  {
   "cell_type": "code",
   "execution_count": null,
   "id": "900443d2-7a4d-41c6-836b-38a0251179cc",
   "metadata": {},
   "outputs": [],
   "source": []
  }
 ],
 "metadata": {
  "kernelspec": {
   "display_name": "Python [conda env:base] *",
   "language": "python",
   "name": "conda-base-py"
  },
  "language_info": {
   "codemirror_mode": {
    "name": "ipython",
    "version": 3
   },
   "file_extension": ".py",
   "mimetype": "text/x-python",
   "name": "python",
   "nbconvert_exporter": "python",
   "pygments_lexer": "ipython3",
   "version": "3.12.7"
  }
 },
 "nbformat": 4,
 "nbformat_minor": 5
}
