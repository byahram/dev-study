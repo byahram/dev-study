{
 "cells": [
  {
   "cell_type": "code",
   "execution_count": 31,
   "id": "bb5de099-e6ea-4e82-80fb-3eac84f5a67c",
   "metadata": {},
   "outputs": [],
   "source": [
    "'''\n",
    "[BeautifulSoup 기초 실습 : html.parser]\n",
    "\n",
    "- bs4 -> BeautifulSoup4의 약자이다.\n",
    "'''\n",
    "\n",
    "from bs4 import BeautifulSoup"
   ]
  },
  {
   "cell_type": "code",
   "execution_count": 33,
   "id": "2806c699-4f48-4c3b-8084-735d65fe9df3",
   "metadata": {},
   "outputs": [],
   "source": [
    "'''\n",
    "- 웹 페이지에서 접속해서 HTML 문서를 가져오는 함수\n",
    "- urlopen()을 사용해서 웹사이트에 요청을 보냄\n",
    "- 받은 HTML 데이터를 BeautifulSoup으로 분석함\n",
    "- 원하는 태그나 정보를 꺼내서 쓸 수 있다.\n",
    "'''\n",
    "\n",
    "from urllib.request import urlopen"
   ]
  },
  {
   "cell_type": "code",
   "execution_count": 35,
   "id": "226b6169-b17f-4f47-a1c1-4af4e5a01e44",
   "metadata": {},
   "outputs": [],
   "source": [
    "url = \"https://www.naver.com/\"\n",
    "\n",
    "'''\n",
    "[urlopen()]\n",
    "\n",
    "- 웹 사이트에 요청을 보내고, HTML 데이터를 받아오는 역할이다.\n",
    "'''\n",
    "\n",
    "page = urlopen(url)    # 웹사이트에 접속해서 HTML 데이터를 가져옴"
   ]
  },
  {
   "cell_type": "code",
   "execution_count": 37,
   "id": "ca31d863-141b-43b2-ab48-bd34ad6b83d3",
   "metadata": {},
   "outputs": [
    {
     "name": "stdout",
     "output_type": "stream",
     "text": [
      "<title>NAVER</title>\n",
      "NAVER\n"
     ]
    }
   ],
   "source": [
    "'''\n",
    "[html.parser]\n",
    "\n",
    "- <head>, <body> 처럼 HTML 구조를 자동으로 읽고 구분해주는 역할을 한다.\n",
    "- HTML 문서는 그냥 텍스트 덩어리다.\n",
    "'''\n",
    "\n",
    "soup = BeautifulSoup(page, \"html.parser\")\n",
    "\n",
    "# <title> 태그 전체를 출력\n",
    "print(soup.title)\n",
    "\n",
    "# <title> 안의 텍스트만 출력\n",
    "print(soup.title.text)"
   ]
  }
 ],
 "metadata": {
  "kernelspec": {
   "display_name": "Python [conda env:base] *",
   "language": "python",
   "name": "conda-base-py"
  },
  "language_info": {
   "codemirror_mode": {
    "name": "ipython",
    "version": 3
   },
   "file_extension": ".py",
   "mimetype": "text/x-python",
   "name": "python",
   "nbconvert_exporter": "python",
   "pygments_lexer": "ipython3",
   "version": "3.12.7"
  }
 },
 "nbformat": 4,
 "nbformat_minor": 5
}
