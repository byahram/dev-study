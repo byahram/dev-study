{
 "cells": [
  {
   "cell_type": "code",
   "execution_count": 1,
   "id": "e1c267a7-0de7-48ea-b767-72c080297eef",
   "metadata": {},
   "outputs": [],
   "source": [
    "import numpy as np"
   ]
  },
  {
   "cell_type": "markdown",
   "id": "78c63bfc-500b-47e9-b73d-3bfe06a62866",
   "metadata": {},
   "source": [
    "# 넘파이 배열의 구조\n",
    "\n",
    "- 넘파이 모듈의 기본 배열은 ndarray(n-dimension array, 다차원배열)"
   ]
  },
  {
   "cell_type": "markdown",
   "id": "82664e57-9dee-418f-af33-659453e34791",
   "metadata": {},
   "source": [
    "## 다차원배열 생성"
   ]
  },
  {
   "cell_type": "code",
   "execution_count": 5,
   "id": "89b4d6d4-c3b3-47d5-bc26-13d1d1b146a2",
   "metadata": {},
   "outputs": [],
   "source": [
    "# 리스트를 다차원배열로 변환\n",
    "# np.array() : 다차원 배열을 만드는 함수\n",
    "li = [1, 2, 3, 4]\n",
    "li_arr = np.array(li)"
   ]
  },
  {
   "cell_type": "code",
   "execution_count": 7,
   "id": "f194ebce-694f-420d-bfa8-3b23e822c12b",
   "metadata": {},
   "outputs": [
    {
     "data": {
      "text/plain": [
       "array([1, 2, 3, 4])"
      ]
     },
     "execution_count": 7,
     "metadata": {},
     "output_type": "execute_result"
    }
   ],
   "source": [
    "li_arr"
   ]
  },
  {
   "cell_type": "code",
   "execution_count": 9,
   "id": "97489a3b-5613-4c96-85de-0ffeb2d51263",
   "metadata": {},
   "outputs": [
    {
     "data": {
      "text/plain": [
       "numpy.ndarray"
      ]
     },
     "execution_count": 9,
     "metadata": {},
     "output_type": "execute_result"
    }
   ],
   "source": [
    "type(li_arr)"
   ]
  },
  {
   "cell_type": "code",
   "execution_count": 11,
   "id": "cf757b31-f625-41a4-a8b3-3d5675c38a21",
   "metadata": {},
   "outputs": [],
   "source": [
    "# 튜플을 다차원 배열로 변환\n",
    "tu = (1, 2, 3, 4)\n",
    "tu_arr = np.array(tu)"
   ]
  },
  {
   "cell_type": "code",
   "execution_count": 13,
   "id": "c3278f50-0f42-4ee6-869a-35d4b87461b8",
   "metadata": {},
   "outputs": [
    {
     "data": {
      "text/plain": [
       "array([1, 2, 3, 4])"
      ]
     },
     "execution_count": 13,
     "metadata": {},
     "output_type": "execute_result"
    }
   ],
   "source": [
    "tu_arr"
   ]
  },
  {
   "cell_type": "code",
   "execution_count": 15,
   "id": "6e78362c-a6a4-4fe7-9458-0dd5e9fb7aa6",
   "metadata": {},
   "outputs": [
    {
     "data": {
      "text/plain": [
       "numpy.ndarray"
      ]
     },
     "execution_count": 15,
     "metadata": {},
     "output_type": "execute_result"
    }
   ],
   "source": [
    "type(tu_arr)"
   ]
  },
  {
   "cell_type": "code",
   "execution_count": 17,
   "id": "cafeab41-075c-49d1-aa8e-eb7f6d302cca",
   "metadata": {},
   "outputs": [
    {
     "data": {
      "text/plain": [
       "(2233179203952, 2233179203952)"
      ]
     },
     "execution_count": 17,
     "metadata": {},
     "output_type": "execute_result"
    }
   ],
   "source": [
    "# 다차원배열은 mutable의 특징을 가짐\n",
    "# 변수를 다른 변수에 복사한 뒤 데이터를 수정하면 모든 변수의 데이터가 수정됨\n",
    "co_arr = li_arr\n",
    "id(co_arr), id(li_arr)"
   ]
  },
  {
   "cell_type": "code",
   "execution_count": 40,
   "id": "957d2997-e413-49d5-8b14-00a365b09e46",
   "metadata": {},
   "outputs": [
    {
     "data": {
      "text/plain": [
       "array([1, 2, 3, 4])"
      ]
     },
     "execution_count": 40,
     "metadata": {},
     "output_type": "execute_result"
    }
   ],
   "source": [
    "co_arr"
   ]
  },
  {
   "cell_type": "code",
   "execution_count": 42,
   "id": "e95a2e1e-bba9-4118-8f87-6ad7f40a92f3",
   "metadata": {},
   "outputs": [],
   "source": [
    "co_arr[0] = 100"
   ]
  },
  {
   "cell_type": "code",
   "execution_count": 44,
   "id": "a8e7652a-96f8-435b-bf6e-916d12cff7d9",
   "metadata": {},
   "outputs": [
    {
     "data": {
      "text/plain": [
       "array([100,   2,   3,   4])"
      ]
     },
     "execution_count": 44,
     "metadata": {},
     "output_type": "execute_result"
    }
   ],
   "source": [
    "co_arr"
   ]
  },
  {
   "cell_type": "code",
   "execution_count": 46,
   "id": "f25b7204-f435-4583-94b1-15d8c353a511",
   "metadata": {},
   "outputs": [
    {
     "data": {
      "text/plain": [
       "array([100,   2,   3,   4])"
      ]
     },
     "execution_count": 46,
     "metadata": {},
     "output_type": "execute_result"
    }
   ],
   "source": [
    "li_arr"
   ]
  },
  {
   "cell_type": "code",
   "execution_count": 50,
   "id": "e83619b5-b8cd-4c57-8870-854fe6fcbac5",
   "metadata": {},
   "outputs": [],
   "source": [
    "# 다차원 배열의 값을 복사해서 새로운 배열을 만들면\n",
    "# 동일한 값을 가진 새로운 배열이 만들어지기 때문에 서로 다른 데이터가 됨\n",
    "new_arr = np.array(li_arr)"
   ]
  },
  {
   "cell_type": "code",
   "execution_count": 52,
   "id": "3b51d655-6e72-42ec-9c62-96cb48ff2ab0",
   "metadata": {},
   "outputs": [
    {
     "data": {
      "text/plain": [
       "(2233179203760, 2233179203952)"
      ]
     },
     "execution_count": 52,
     "metadata": {},
     "output_type": "execute_result"
    }
   ],
   "source": [
    "id(new_arr), id(li_arr)"
   ]
  },
  {
   "cell_type": "code",
   "execution_count": 54,
   "id": "1fa00f51-c2fd-4a91-8b1e-85d440b923a6",
   "metadata": {},
   "outputs": [],
   "source": [
    "new_arr[0] = 99"
   ]
  },
  {
   "cell_type": "code",
   "execution_count": 56,
   "id": "001b0f75-a942-4ca3-968f-5c2997b24ce0",
   "metadata": {},
   "outputs": [
    {
     "data": {
      "text/plain": [
       "array([99,  2,  3,  4])"
      ]
     },
     "execution_count": 56,
     "metadata": {},
     "output_type": "execute_result"
    }
   ],
   "source": [
    "new_arr"
   ]
  },
  {
   "cell_type": "code",
   "execution_count": 58,
   "id": "f5826335-c46f-4005-8eec-70f186c9af1d",
   "metadata": {},
   "outputs": [
    {
     "data": {
      "text/plain": [
       "array([100,   2,   3,   4])"
      ]
     },
     "execution_count": 58,
     "metadata": {},
     "output_type": "execute_result"
    }
   ],
   "source": [
    "li_arr"
   ]
  },
  {
   "cell_type": "markdown",
   "id": "399c9df2-c182-4bbb-b751-966575d3b9ca",
   "metadata": {},
   "source": [
    "- 파이썬 리스트는 다양한 자료형을 사용할 수 있지만 넘파이 배열은 같은 자료형만 넣을 수 있음\n",
    "    - 다차원 배열을 생성할 때 자료형을 지정하지 않으면 내부의 원소를 보고 자동으로 추론해서 만듦"
   ]
  },
  {
   "cell_type": "code",
   "execution_count": 74,
   "id": "3ac00689-b058-4fec-b5f1-045ec939ca60",
   "metadata": {},
   "outputs": [],
   "source": [
    "# float 자료형을 지정해서 다차원 배열 생성하기\n",
    "fl_arr = np.array(li, dtype = float)"
   ]
  },
  {
   "cell_type": "code",
   "execution_count": 76,
   "id": "183fb522-4aa2-4c34-9442-07293e9f7470",
   "metadata": {},
   "outputs": [
    {
     "data": {
      "text/plain": [
       "array([1., 2., 3., 4.])"
      ]
     },
     "execution_count": 76,
     "metadata": {},
     "output_type": "execute_result"
    }
   ],
   "source": [
    "fl_arr"
   ]
  },
  {
   "cell_type": "code",
   "execution_count": 78,
   "id": "2c7356cd-ea68-4642-a589-b6017373c0ed",
   "metadata": {},
   "outputs": [
    {
     "data": {
      "text/plain": [
       "dtype('float64')"
      ]
     },
     "execution_count": 78,
     "metadata": {},
     "output_type": "execute_result"
    }
   ],
   "source": [
    "fl_arr.dtype"
   ]
  },
  {
   "cell_type": "markdown",
   "id": "04cc3d32-96b9-4f8b-8d9a-6bdef9c51127",
   "metadata": {},
   "source": [
    "### 2차원 배열\n",
    "\n",
    "- 2개의 축을 가지는 배열(행, 열)\n",
    "    - 두 개의 1차원 배열이 쌓여서 하나의 2차원 배열이 만들어짐"
   ]
  },
  {
   "cell_type": "code",
   "execution_count": 81,
   "id": "e3d9e624-64ce-455c-b413-f514e9f3cc1c",
   "metadata": {},
   "outputs": [],
   "source": [
    "arr2d = np.array([[1, 2, 3],[4, 5, 6]])"
   ]
  },
  {
   "cell_type": "code",
   "execution_count": 83,
   "id": "1acce46b-a224-4595-8ecc-da7a5971c88d",
   "metadata": {},
   "outputs": [
    {
     "data": {
      "text/plain": [
       "array([[1, 2, 3],\n",
       "       [4, 5, 6]])"
      ]
     },
     "execution_count": 83,
     "metadata": {},
     "output_type": "execute_result"
    }
   ],
   "source": [
    "arr2d"
   ]
  },
  {
   "cell_type": "code",
   "execution_count": 85,
   "id": "d44f3b05-5dd8-434f-a85f-56cfa58cd665",
   "metadata": {},
   "outputs": [
    {
     "data": {
      "text/plain": [
       "(2, 3)"
      ]
     },
     "execution_count": 85,
     "metadata": {},
     "output_type": "execute_result"
    }
   ],
   "source": [
    "# 각 축의 원소의 개수\n",
    "arr2d.shape"
   ]
  },
  {
   "cell_type": "code",
   "execution_count": 87,
   "id": "c3cd09a9-608e-446a-a7d4-3fb807ce8b68",
   "metadata": {},
   "outputs": [
    {
     "data": {
      "text/plain": [
       "2"
      ]
     },
     "execution_count": 87,
     "metadata": {},
     "output_type": "execute_result"
    }
   ],
   "source": [
    "# 축의 개수\n",
    "arr2d.ndim"
   ]
  },
  {
   "cell_type": "code",
   "execution_count": 89,
   "id": "eb1d757c-fc8a-4bd9-a68e-02e4854b1274",
   "metadata": {},
   "outputs": [
    {
     "data": {
      "text/plain": [
       "dtype('int32')"
      ]
     },
     "execution_count": 89,
     "metadata": {},
     "output_type": "execute_result"
    }
   ],
   "source": [
    "arr2d.dtype"
   ]
  },
  {
   "cell_type": "code",
   "execution_count": 91,
   "id": "f6865f52-3863-4952-9c3c-8450753d3713",
   "metadata": {},
   "outputs": [
    {
     "data": {
      "text/plain": [
       "array([1, 2, 3, 4, 5, 6])"
      ]
     },
     "execution_count": 91,
     "metadata": {},
     "output_type": "execute_result"
    }
   ],
   "source": [
    "# 다차원 배열을 1차원 배열로 조회\n",
    "arr2d.flatten()"
   ]
  },
  {
   "cell_type": "code",
   "execution_count": 93,
   "id": "2e587bd4-02dc-446a-b101-cc0707f32546",
   "metadata": {},
   "outputs": [
    {
     "data": {
      "text/plain": [
       "array([[1, 2, 3],\n",
       "       [4, 5, 6]])"
      ]
     },
     "execution_count": 93,
     "metadata": {},
     "output_type": "execute_result"
    }
   ],
   "source": [
    "arr2d"
   ]
  },
  {
   "cell_type": "markdown",
   "id": "e82491c6-46c6-4c2c-a446-47185d8cbce9",
   "metadata": {},
   "source": [
    "## 다차원배열에서 원소 조회하기"
   ]
  },
  {
   "cell_type": "code",
   "execution_count": 96,
   "id": "a1fb9d3c-c9dd-4ee8-a525-1125d19284bd",
   "metadata": {},
   "outputs": [
    {
     "data": {
      "text/plain": [
       "array([100,   2,   3,   4])"
      ]
     },
     "execution_count": 96,
     "metadata": {},
     "output_type": "execute_result"
    }
   ],
   "source": [
    "li_arr"
   ]
  },
  {
   "cell_type": "code",
   "execution_count": 98,
   "id": "16f60546-2ffe-4ebe-9d47-8ec009268d55",
   "metadata": {},
   "outputs": [
    {
     "data": {
      "text/plain": [
       "[1, 2, 3, 4]"
      ]
     },
     "execution_count": 98,
     "metadata": {},
     "output_type": "execute_result"
    }
   ],
   "source": [
    "li"
   ]
  },
  {
   "cell_type": "code",
   "execution_count": 100,
   "id": "98a14c06-4a6d-4e8c-ac03-a4cfbaa055cc",
   "metadata": {},
   "outputs": [
    {
     "data": {
      "text/plain": [
       "1"
      ]
     },
     "execution_count": 100,
     "metadata": {},
     "output_type": "execute_result"
    }
   ],
   "source": [
    "li[0]"
   ]
  },
  {
   "cell_type": "code",
   "execution_count": 102,
   "id": "c2bee3b9-c720-415b-837f-ad0fc47c6641",
   "metadata": {},
   "outputs": [
    {
     "data": {
      "text/plain": [
       "100"
      ]
     },
     "execution_count": 102,
     "metadata": {},
     "output_type": "execute_result"
    }
   ],
   "source": [
    "li_arr[0]"
   ]
  },
  {
   "cell_type": "code",
   "execution_count": 104,
   "id": "f20483df-4a9c-437a-921e-dc859cae134f",
   "metadata": {},
   "outputs": [],
   "source": [
    "# 배열을 리스트로 변환\n",
    "list2d = arr2d.tolist()"
   ]
  },
  {
   "cell_type": "code",
   "execution_count": 106,
   "id": "0a364115-7349-49c7-a328-e57e6e04efbe",
   "metadata": {},
   "outputs": [
    {
     "data": {
      "text/plain": [
       "[[1, 2, 3], [4, 5, 6]]"
      ]
     },
     "execution_count": 106,
     "metadata": {},
     "output_type": "execute_result"
    }
   ],
   "source": [
    "list2d"
   ]
  },
  {
   "cell_type": "code",
   "execution_count": 108,
   "id": "2fac7a1a-cb97-46fe-9cc3-f8bcc4bf4f5d",
   "metadata": {},
   "outputs": [
    {
     "data": {
      "text/plain": [
       "array([[1, 2, 3],\n",
       "       [4, 5, 6]])"
      ]
     },
     "execution_count": 108,
     "metadata": {},
     "output_type": "execute_result"
    }
   ],
   "source": [
    "arr2d"
   ]
  },
  {
   "cell_type": "code",
   "execution_count": 110,
   "id": "d3da4ca9-2365-498a-ae1f-c75de26d0438",
   "metadata": {},
   "outputs": [
    {
     "data": {
      "text/plain": [
       "2"
      ]
     },
     "execution_count": 110,
     "metadata": {},
     "output_type": "execute_result"
    }
   ],
   "source": [
    "# 리스트는 정수만 이용해서 원소 조회 가능\n",
    "# 따라서 리스트 내 리스트의 원소를 조회할 때는 인덱싱을 두 번 사용해야함\n",
    "list2d[0][1]"
   ]
  },
  {
   "cell_type": "code",
   "execution_count": 112,
   "id": "590ff4e6-ba52-421c-ac25-0efdcb8148d9",
   "metadata": {},
   "outputs": [
    {
     "ename": "TypeError",
     "evalue": "list indices must be integers or slices, not tuple",
     "output_type": "error",
     "traceback": [
      "\u001b[1;31m---------------------------------------------------------------------------\u001b[0m",
      "\u001b[1;31mTypeError\u001b[0m                                 Traceback (most recent call last)",
      "Cell \u001b[1;32mIn[112], line 1\u001b[0m\n\u001b[1;32m----> 1\u001b[0m list2d[\u001b[38;5;241m0\u001b[39m, \u001b[38;5;241m1\u001b[39m]\n",
      "\u001b[1;31mTypeError\u001b[0m: list indices must be integers or slices, not tuple"
     ]
    }
   ],
   "source": [
    "list2d[0, 1]"
   ]
  },
  {
   "cell_type": "code",
   "execution_count": 114,
   "id": "2d246d53-4b32-4be8-b1d5-13715664764a",
   "metadata": {},
   "outputs": [
    {
     "data": {
      "text/plain": [
       "2"
      ]
     },
     "execution_count": 114,
     "metadata": {},
     "output_type": "execute_result"
    }
   ],
   "source": [
    "# 다차원 배열은 행과 열의 인덱스를 튜플로 조회할 수 있음\n",
    "arr2d[0, 1]"
   ]
  },
  {
   "cell_type": "code",
   "execution_count": 116,
   "id": "3c74e2ac-04f0-41b8-9047-29c5ef962409",
   "metadata": {},
   "outputs": [
    {
     "data": {
      "text/plain": [
       "2"
      ]
     },
     "execution_count": 116,
     "metadata": {},
     "output_type": "execute_result"
    }
   ],
   "source": [
    "arr2d[0][1]"
   ]
  },
  {
   "cell_type": "code",
   "execution_count": 118,
   "id": "b856551e-1901-43ab-b6eb-6b814dec0b06",
   "metadata": {},
   "outputs": [],
   "source": [
    "# 슬라이싱\n",
    "arr1 = np.array([[0, 1, 2, 3],\n",
    "                 [4, 5, 6, 7]])"
   ]
  },
  {
   "cell_type": "code",
   "execution_count": 120,
   "id": "14d8453a-0c24-438c-9882-661f2c0c688d",
   "metadata": {},
   "outputs": [
    {
     "data": {
      "text/plain": [
       "array([[0, 1, 2, 3],\n",
       "       [4, 5, 6, 7]])"
      ]
     },
     "execution_count": 120,
     "metadata": {},
     "output_type": "execute_result"
    }
   ],
   "source": [
    "arr1"
   ]
  },
  {
   "cell_type": "code",
   "execution_count": 145,
   "id": "52482a30-4aad-44a3-8305-cf1fb690a2d3",
   "metadata": {},
   "outputs": [
    {
     "data": {
      "text/plain": [
       "array([0, 1, 2, 3])"
      ]
     },
     "execution_count": 145,
     "metadata": {},
     "output_type": "execute_result"
    }
   ],
   "source": [
    "# 첫 번째 행 전체\n",
    "arr1[0, :]"
   ]
  },
  {
   "cell_type": "code",
   "execution_count": 147,
   "id": "8e997489-ac4f-482e-bac0-9f97199aed43",
   "metadata": {},
   "outputs": [
    {
     "data": {
      "text/plain": [
       "array([1, 5])"
      ]
     },
     "execution_count": 147,
     "metadata": {},
     "output_type": "execute_result"
    }
   ],
   "source": [
    "# 두 번째 열 전체\n",
    "arr1[:, 1]"
   ]
  },
  {
   "cell_type": "code",
   "execution_count": 149,
   "id": "5b7c3bc4-6f04-4a21-b9ec-049056e6bc6a",
   "metadata": {},
   "outputs": [
    {
     "data": {
      "text/plain": [
       "array([5, 6, 7])"
      ]
     },
     "execution_count": 149,
     "metadata": {},
     "output_type": "execute_result"
    }
   ],
   "source": [
    "# 두 번째 행의 두 번째 열부터 끝열까지\n",
    "arr1[1, 1:]"
   ]
  },
  {
   "cell_type": "code",
   "execution_count": 151,
   "id": "40dd639d-0876-45d0-b146-5d4c1b5cbe29",
   "metadata": {},
   "outputs": [
    {
     "data": {
      "text/plain": [
       "array([[0, 1],\n",
       "       [4, 5]])"
      ]
     },
     "execution_count": 151,
     "metadata": {},
     "output_type": "execute_result"
    }
   ],
   "source": [
    "# 각 행의 두 번째 열까지\n",
    "arr1[:, :2]"
   ]
  },
  {
   "cell_type": "markdown",
   "id": "f4700716-f860-42e0-98e8-22db6093196c",
   "metadata": {},
   "source": [
    "#### 연습문제\n",
    "\n",
    "1. 아래의 행렬에서 값 7을 인덱싱\n",
    "2. 아래의 행렬에서 값 14를 인덱싱\n",
    "3. 아래의 행렬에서 배열 [6, 7]을 슬라이싱\n",
    "4. 아래의 행렬에서 배열 [7, 12]를 슬라이싱\n",
    "5. 아래의 행렬에서 배열[[3, 4], [8, 9]]를 슬라이싱"
   ]
  },
  {
   "cell_type": "code",
   "execution_count": 154,
   "id": "a73c63e8-a749-4caf-96ba-ad28c307bfe5",
   "metadata": {},
   "outputs": [],
   "source": [
    "m = np.arange(15).reshape(3, 5)"
   ]
  },
  {
   "cell_type": "code",
   "execution_count": 158,
   "id": "0ff600ec-1fd2-4d6b-8e6b-3f2b8b37d12c",
   "metadata": {},
   "outputs": [
    {
     "data": {
      "text/plain": [
       "array([[ 0,  1,  2,  3,  4],\n",
       "       [ 5,  6,  7,  8,  9],\n",
       "       [10, 11, 12, 13, 14]])"
      ]
     },
     "execution_count": 158,
     "metadata": {},
     "output_type": "execute_result"
    }
   ],
   "source": [
    "m"
   ]
  },
  {
   "cell_type": "code",
   "execution_count": 162,
   "id": "503ffc89-d1ec-475e-a51e-8fe0f93fa650",
   "metadata": {},
   "outputs": [
    {
     "data": {
      "text/plain": [
       "7"
      ]
     },
     "execution_count": 162,
     "metadata": {},
     "output_type": "execute_result"
    }
   ],
   "source": [
    "# 1. 값 7을 인덱싱\n",
    "m[1, 2]"
   ]
  },
  {
   "cell_type": "code",
   "execution_count": 168,
   "id": "6912d6b4-0b3c-4338-a020-7db73fddaaa1",
   "metadata": {},
   "outputs": [
    {
     "data": {
      "text/plain": [
       "14"
      ]
     },
     "execution_count": 168,
     "metadata": {},
     "output_type": "execute_result"
    }
   ],
   "source": [
    "# 2. 값 14를 인덱싱\n",
    "# m[2, 4]\n",
    "m[-1, -1]"
   ]
  },
  {
   "cell_type": "code",
   "execution_count": 170,
   "id": "2da3114e-b322-42a6-8518-76ca2db11ddc",
   "metadata": {},
   "outputs": [
    {
     "data": {
      "text/plain": [
       "array([6, 7])"
      ]
     },
     "execution_count": 170,
     "metadata": {},
     "output_type": "execute_result"
    }
   ],
   "source": [
    "# 3. 배열 [6, 7]을 슬라이싱\n",
    "m[1, 1:3]"
   ]
  },
  {
   "cell_type": "code",
   "execution_count": 172,
   "id": "cc0ad38e-343d-4fa0-bd9e-3681b2c9c1b6",
   "metadata": {},
   "outputs": [
    {
     "data": {
      "text/plain": [
       "array([ 7, 12])"
      ]
     },
     "execution_count": 172,
     "metadata": {},
     "output_type": "execute_result"
    }
   ],
   "source": [
    "# 4. 배열 [7, 12]를 슬라이싱\n",
    "m[1:, 2]"
   ]
  },
  {
   "cell_type": "code",
   "execution_count": 174,
   "id": "e185ea67-7b94-4fb3-9e9a-36ee3eff94b1",
   "metadata": {},
   "outputs": [
    {
     "data": {
      "text/plain": [
       "array([[3, 4],\n",
       "       [8, 9]])"
      ]
     },
     "execution_count": 174,
     "metadata": {},
     "output_type": "execute_result"
    }
   ],
   "source": [
    "# 5. 배열[[3, 4], [8, 9]]를 슬라이싱\n",
    "m[:2, 3:]"
   ]
  },
  {
   "cell_type": "markdown",
   "id": "fb298ce4-b444-4d6b-b899-a30ab762228c",
   "metadata": {},
   "source": [
    "## 파이썬 리스트와 넘파이 배열의 차이\n",
    "\n",
    "- 넘파이 배열은 배열끼리 연산이 가능하지만 파이썬 리스트는 값의 추가만 가능\n",
    "- 넘파이 배열은 숫자와의 연산도 가능하지만 파이썬 리스트는 불가능\n",
    "  - 파이썬 리스트 : 요소를 반복하는 것은 가능\n",
    "- 사용 용도\n",
    "  - 파이썬 리스트는 값을 추가하거나 제거하는 일에 사용\n",
    "  - 넘파이 배열은 수치 계산이 많고 복잡하거나 다차원배열이 필요할 때 사용"
   ]
  },
  {
   "cell_type": "markdown",
   "id": "be666a3c-809f-44b8-a1be-870ed1af15fb",
   "metadata": {},
   "source": [
    "# 전치 연산(transpose)\n",
    "\n",
    "- 2차원 배열의 행과 열을 바꾸는 연산"
   ]
  },
  {
   "cell_type": "code",
   "execution_count": 195,
   "id": "a84ed5dd-cdb5-4766-8596-c3cd656fb867",
   "metadata": {},
   "outputs": [],
   "source": [
    "arr = np.array([[1, 2, 3],\n",
    "                [4, 5, 6]])"
   ]
  },
  {
   "cell_type": "code",
   "execution_count": 197,
   "id": "5dcf4792-b16b-4017-aa90-2502ef44bbd4",
   "metadata": {},
   "outputs": [
    {
     "data": {
      "text/plain": [
       "array([[1, 2, 3],\n",
       "       [4, 5, 6]])"
      ]
     },
     "execution_count": 197,
     "metadata": {},
     "output_type": "execute_result"
    }
   ],
   "source": [
    "arr"
   ]
  },
  {
   "cell_type": "code",
   "execution_count": 199,
   "id": "5aa56a50-f7ef-4203-a2fa-2408b039856b",
   "metadata": {},
   "outputs": [
    {
     "data": {
      "text/plain": [
       "(2, 3)"
      ]
     },
     "execution_count": 199,
     "metadata": {},
     "output_type": "execute_result"
    }
   ],
   "source": [
    "arr.shape"
   ]
  },
  {
   "cell_type": "code",
   "execution_count": 203,
   "id": "e935b0f4-9cb4-4506-b26d-130cbc2e6ce7",
   "metadata": {},
   "outputs": [
    {
     "data": {
      "text/plain": [
       "array([[1, 4],\n",
       "       [2, 5],\n",
       "       [3, 6]])"
      ]
     },
     "execution_count": 203,
     "metadata": {},
     "output_type": "execute_result"
    }
   ],
   "source": [
    "# 전치\n",
    "arr.T"
   ]
  },
  {
   "cell_type": "code",
   "execution_count": 205,
   "id": "9789e476-1ede-40b3-ac6c-b967079aadbc",
   "metadata": {},
   "outputs": [
    {
     "data": {
      "text/plain": [
       "(3, 2)"
      ]
     },
     "execution_count": 205,
     "metadata": {},
     "output_type": "execute_result"
    }
   ],
   "source": [
    "arr.T.shape"
   ]
  },
  {
   "cell_type": "markdown",
   "id": "4ae32f4a-c0d3-4abd-9116-7d7f3df42c0b",
   "metadata": {},
   "source": [
    "# 배열 크기 변형"
   ]
  },
  {
   "cell_type": "code",
   "execution_count": 210,
   "id": "3acd977b-ce8f-4e96-8b5b-f66db33b319a",
   "metadata": {},
   "outputs": [],
   "source": [
    "arr1 = np.arange(12)"
   ]
  },
  {
   "cell_type": "code",
   "execution_count": 212,
   "id": "fe56a206-3423-4691-ba40-2424a15296a6",
   "metadata": {},
   "outputs": [
    {
     "data": {
      "text/plain": [
       "array([ 0,  1,  2,  3,  4,  5,  6,  7,  8,  9, 10, 11])"
      ]
     },
     "execution_count": 212,
     "metadata": {},
     "output_type": "execute_result"
    }
   ],
   "source": [
    "arr1"
   ]
  },
  {
   "cell_type": "code",
   "execution_count": 214,
   "id": "72978a39-39c6-4ae2-9c1e-4da59e157141",
   "metadata": {},
   "outputs": [],
   "source": [
    "# arr1의 shape를 (3, 4)로 변형\n",
    "arr2 = arr1.reshape(3, 4)"
   ]
  },
  {
   "cell_type": "code",
   "execution_count": 216,
   "id": "d350a699-0da2-4f3b-8f21-77ea95e6f9e6",
   "metadata": {},
   "outputs": [
    {
     "data": {
      "text/plain": [
       "array([[ 0,  1,  2,  3],\n",
       "       [ 4,  5,  6,  7],\n",
       "       [ 8,  9, 10, 11]])"
      ]
     },
     "execution_count": 216,
     "metadata": {},
     "output_type": "execute_result"
    }
   ],
   "source": [
    "arr2"
   ]
  },
  {
   "cell_type": "markdown",
   "id": "60373a6f-cd2b-4ab4-b7fe-08ed78954280",
   "metadata": {},
   "source": [
    "- 사용하는 원소의 수가 정해져 있기 때문에 reshape의 형태 원소 중 하나는 -1로 대체할 수 있음"
   ]
  },
  {
   "cell_type": "code",
   "execution_count": 229,
   "id": "0d4ae195-b835-4b44-a7b7-97ed579ac5ba",
   "metadata": {},
   "outputs": [
    {
     "data": {
      "text/plain": [
       "array([[ 0,  1,  2,  3],\n",
       "       [ 4,  5,  6,  7],\n",
       "       [ 8,  9, 10, 11]])"
      ]
     },
     "execution_count": 229,
     "metadata": {},
     "output_type": "execute_result"
    }
   ],
   "source": [
    "arr1.reshape(-1, 4)"
   ]
  },
  {
   "cell_type": "code",
   "execution_count": 219,
   "id": "e86762c4-0805-4ea7-8acb-b9760158e3c1",
   "metadata": {},
   "outputs": [
    {
     "data": {
      "text/plain": [
       "array([[ 0,  1,  2,  3],\n",
       "       [ 4,  5,  6,  7],\n",
       "       [ 8,  9, 10, 11]])"
      ]
     },
     "execution_count": 219,
     "metadata": {},
     "output_type": "execute_result"
    }
   ],
   "source": [
    "arr1.reshape(3, -1)"
   ]
  },
  {
   "cell_type": "code",
   "execution_count": 221,
   "id": "ab1a0c45-ccd8-4b50-a722-76e877864058",
   "metadata": {},
   "outputs": [
    {
     "data": {
      "text/plain": [
       "array([[[ 0,  1,  2],\n",
       "        [ 3,  4,  5]],\n",
       "\n",
       "       [[ 6,  7,  8],\n",
       "        [ 9, 10, 11]]])"
      ]
     },
     "execution_count": 221,
     "metadata": {},
     "output_type": "execute_result"
    }
   ],
   "source": [
    "arr1.reshape(2, 2, -1)"
   ]
  },
  {
   "cell_type": "code",
   "execution_count": 227,
   "id": "bfefdd9f-71bf-4eef-b131-656cff7156d7",
   "metadata": {},
   "outputs": [
    {
     "data": {
      "text/plain": [
       "array([[[ 0,  1],\n",
       "        [ 2,  3],\n",
       "        [ 4,  5]],\n",
       "\n",
       "       [[ 6,  7],\n",
       "        [ 8,  9],\n",
       "        [10, 11]]])"
      ]
     },
     "execution_count": 227,
     "metadata": {},
     "output_type": "execute_result"
    }
   ],
   "source": [
    "arr1.reshape(2, -1, 2)"
   ]
  },
  {
   "cell_type": "markdown",
   "id": "0fff93d4-2b26-4265-9d8e-882a88bb43cd",
   "metadata": {},
   "source": [
    "# 넘파이 함수의 특징\n",
    "\n",
    "- 벡터화 연산\n",
    "  - 벡터와 행렬의 연산은 구성하는 원소별로 처리하는 것이 보통\n",
    "  - 동일한 인덱스의 원소끼리 계산을 처리하는 것을 벡터화 연산이라고 함\n",
    "- 유니버설 함수(universal function)\n",
    "  - 벡터화 연산을 지원하는 특별한 함수를 유니버설 함수라고 함"
   ]
  },
  {
   "cell_type": "code",
   "execution_count": 238,
   "id": "f1a1e645-9d6c-495d-95f3-516f8a13a98f",
   "metadata": {},
   "outputs": [
    {
     "data": {
      "text/plain": [
       "function"
      ]
     },
     "execution_count": 238,
     "metadata": {},
     "output_type": "execute_result"
    }
   ],
   "source": [
    "# 일반 파이썬 함수의 타입 확인\n",
    "def test() :\n",
    "    pass\n",
    "\n",
    "type(test)"
   ]
  },
  {
   "cell_type": "code",
   "execution_count": 240,
   "id": "e29e23ef-1f46-4826-b6c3-29ae2b69dc06",
   "metadata": {},
   "outputs": [
    {
     "data": {
      "text/plain": [
       "numpy.ufunc"
      ]
     },
     "execution_count": 240,
     "metadata": {},
     "output_type": "execute_result"
    }
   ],
   "source": [
    "# 유니버셜 함수 확인\n",
    "type(np.add)"
   ]
  },
  {
   "cell_type": "code",
   "execution_count": 242,
   "id": "c38b59f1-e93b-4ab2-8070-8cf3b7cc012f",
   "metadata": {},
   "outputs": [
    {
     "data": {
      "text/plain": [
       "numpy._ArrayFunctionDispatcher"
      ]
     },
     "execution_count": 242,
     "metadata": {},
     "output_type": "execute_result"
    }
   ],
   "source": [
    "# 넘파이 모듈에는 유니버셜 함수도 있고 일반 함수도 있음\n",
    "type(np.sort)"
   ]
  },
  {
   "cell_type": "code",
   "execution_count": 244,
   "id": "a3512f72-b401-4e83-bc48-54cec7f57909",
   "metadata": {},
   "outputs": [
    {
     "data": {
      "text/plain": [
       "[[1, 2, 3], [4, 5, 6], [1, 2, 3], [4, 5, 6]]"
      ]
     },
     "execution_count": 244,
     "metadata": {},
     "output_type": "execute_result"
    }
   ],
   "source": [
    "list2d + list2d"
   ]
  },
  {
   "cell_type": "code",
   "execution_count": 246,
   "id": "8763db31-9f5e-457e-8a25-6dbe002d1885",
   "metadata": {},
   "outputs": [
    {
     "data": {
      "text/plain": [
       "array([[ 2,  4,  6],\n",
       "       [ 8, 10, 12]])"
      ]
     },
     "execution_count": 246,
     "metadata": {},
     "output_type": "execute_result"
    }
   ],
   "source": [
    "np.add(list2d, list2d)"
   ]
  },
  {
   "cell_type": "markdown",
   "id": "c305a266-bbd6-4255-8185-91e067af7a8d",
   "metadata": {},
   "source": [
    "## 벡터화 연산\n",
    "\n",
    "- 벡터화 연산이 필요한 이유\n",
    "    - 예) data 리스트 내의 각 값에 2를 곱해야 하는 경우"
   ]
  },
  {
   "cell_type": "code",
   "execution_count": 249,
   "id": "2a6405dc-a1b8-4e97-9dcf-d78245f69ca0",
   "metadata": {},
   "outputs": [
    {
     "data": {
      "text/plain": [
       "[0, 1, 2, 3, 4, 5, 6, 7, 8, 9]"
      ]
     },
     "execution_count": 249,
     "metadata": {},
     "output_type": "execute_result"
    }
   ],
   "source": [
    "# 리스트를 통한 풀이\n",
    "data = list(range(10))\n",
    "data"
   ]
  },
  {
   "cell_type": "code",
   "execution_count": 251,
   "id": "bcc48c27-6f60-4d52-ae32-b8108afb1cae",
   "metadata": {},
   "outputs": [
    {
     "data": {
      "text/plain": [
       "[0, 1, 2, 3, 4, 5, 6, 7, 8, 9, 0, 1, 2, 3, 4, 5, 6, 7, 8, 9]"
      ]
     },
     "execution_count": 251,
     "metadata": {},
     "output_type": "execute_result"
    }
   ],
   "source": [
    "data * 2"
   ]
  },
  {
   "cell_type": "code",
   "execution_count": 255,
   "id": "560aa20f-7c7c-4d60-9a4f-83f3ea55dafa",
   "metadata": {},
   "outputs": [
    {
     "data": {
      "text/plain": [
       "[0, 2, 4, 6, 8, 10, 12, 14, 16, 18]"
      ]
     },
     "execution_count": 255,
     "metadata": {},
     "output_type": "execute_result"
    }
   ],
   "source": [
    "ans = []\n",
    "\n",
    "for i in data :\n",
    "    ans.append(i * 2)\n",
    "\n",
    "ans"
   ]
  },
  {
   "cell_type": "code",
   "execution_count": 259,
   "id": "540e7ee9-c594-4311-91b1-1f10edc8c5b6",
   "metadata": {},
   "outputs": [
    {
     "data": {
      "text/plain": [
       "array([ 0,  2,  4,  6,  8, 10, 12, 14, 16, 18])"
      ]
     },
     "execution_count": 259,
     "metadata": {},
     "output_type": "execute_result"
    }
   ],
   "source": [
    "# 넘파이를 통한 풀이\n",
    "data = np.array(data)\n",
    "\n",
    "data * 2"
   ]
  },
  {
   "cell_type": "markdown",
   "id": "35355859-5bf0-4b8a-9252-1f4908a6b23a",
   "metadata": {},
   "source": [
    "### 넘파이 벡터화 연산\n",
    "\n",
    "- 벡터화 연산은 비교 연산과 논리 연산을 포함한 모든 종류의 수학 연산에 대해 적용됨"
   ]
  },
  {
   "cell_type": "code",
   "execution_count": 279,
   "id": "ede68c7b-8cc6-404f-80c3-f9e8ca4b57f0",
   "metadata": {},
   "outputs": [],
   "source": [
    "a = np.array([1, 2, 3])\n",
    "b = np.array([10, 20, 30])"
   ]
  },
  {
   "cell_type": "code",
   "execution_count": 282,
   "id": "e16a0c91-5dca-4c15-87e4-2ff19f50d199",
   "metadata": {},
   "outputs": [
    {
     "data": {
      "text/plain": [
       "array([12, 24, 36])"
      ]
     },
     "execution_count": 282,
     "metadata": {},
     "output_type": "execute_result"
    }
   ],
   "source": [
    "2 * a + b"
   ]
  },
  {
   "cell_type": "code",
   "execution_count": 284,
   "id": "cb645651-fae3-44af-9b5b-a5d84cc232c7",
   "metadata": {},
   "outputs": [
    {
     "data": {
      "text/plain": [
       "array([False,  True, False])"
      ]
     },
     "execution_count": 284,
     "metadata": {},
     "output_type": "execute_result"
    }
   ],
   "source": [
    "a == 2"
   ]
  },
  {
   "cell_type": "code",
   "execution_count": 288,
   "id": "55c687e6-9e92-4df0-af2f-7d93feb71100",
   "metadata": {},
   "outputs": [
    {
     "data": {
      "text/plain": [
       "False"
      ]
     },
     "execution_count": 288,
     "metadata": {},
     "output_type": "execute_result"
    }
   ],
   "source": [
    "[1, 2, 3] == 2"
   ]
  },
  {
   "cell_type": "code",
   "execution_count": 290,
   "id": "ffa1571d-6175-49ec-b1c6-4ddd47a2a337",
   "metadata": {},
   "outputs": [
    {
     "data": {
      "text/plain": [
       "array([False,  True,  True])"
      ]
     },
     "execution_count": 290,
     "metadata": {},
     "output_type": "execute_result"
    }
   ],
   "source": [
    "b > 10"
   ]
  },
  {
   "cell_type": "code",
   "execution_count": 292,
   "id": "19cdc242-6348-4849-9aaf-4f8f7da10307",
   "metadata": {},
   "outputs": [
    {
     "data": {
      "text/plain": [
       "array([False,  True, False])"
      ]
     },
     "execution_count": 292,
     "metadata": {},
     "output_type": "execute_result"
    }
   ],
   "source": [
    "(a == 2) & (b > 10)"
   ]
  },
  {
   "cell_type": "code",
   "execution_count": 294,
   "id": "3d3820d5-a240-4e4b-99a3-7b92d00756c9",
   "metadata": {},
   "outputs": [
    {
     "data": {
      "text/plain": [
       "array([2])"
      ]
     },
     "execution_count": 294,
     "metadata": {},
     "output_type": "execute_result"
    }
   ],
   "source": [
    "a[a == 2]"
   ]
  },
  {
   "cell_type": "markdown",
   "id": "f23f6e13-ab3f-43c5-8d55-4d70ee6149bc",
   "metadata": {},
   "source": [
    "- 배열끼리의 연산"
   ]
  },
  {
   "cell_type": "code",
   "execution_count": 299,
   "id": "942062b4-01ae-4b1f-bc0d-cc93d26c7e98",
   "metadata": {},
   "outputs": [
    {
     "data": {
      "text/plain": [
       "array([6, 7, 8, 9])"
      ]
     },
     "execution_count": 299,
     "metadata": {},
     "output_type": "execute_result"
    }
   ],
   "source": [
    "arr1 = np.arange(6, 10)\n",
    "arr1"
   ]
  },
  {
   "cell_type": "code",
   "execution_count": 301,
   "id": "0cdd45dd-8e20-4e6e-8c8d-c83ddff7635f",
   "metadata": {},
   "outputs": [
    {
     "data": {
      "text/plain": [
       "array([10, 11, 12, 13])"
      ]
     },
     "execution_count": 301,
     "metadata": {},
     "output_type": "execute_result"
    }
   ],
   "source": [
    "arr2 = np.arange(10, 14)\n",
    "arr2"
   ]
  },
  {
   "cell_type": "code",
   "execution_count": 305,
   "id": "aec9b0ef-cbf9-4ef1-b06d-7a54e1d085e9",
   "metadata": {},
   "outputs": [
    {
     "data": {
      "text/plain": [
       "array([ 60,  77,  96, 117])"
      ]
     },
     "execution_count": 305,
     "metadata": {},
     "output_type": "execute_result"
    }
   ],
   "source": [
    "# 두 개의 다차원 배열을 곱하면 동일한 인덱스의 원소끼리 곱셈한 결과인 1차원 배열이 반환됨\n",
    "arr1 * arr2"
   ]
  },
  {
   "cell_type": "code",
   "execution_count": 307,
   "id": "c9aae7dc-3338-4b07-9663-85b5526e0a5a",
   "metadata": {},
   "outputs": [
    {
     "data": {
      "text/plain": [
       "array([[6],\n",
       "       [7],\n",
       "       [8],\n",
       "       [9]])"
      ]
     },
     "execution_count": 307,
     "metadata": {},
     "output_type": "execute_result"
    }
   ],
   "source": [
    "# arr1에 수직축 추가\n",
    "new_arr1 = arr1.reshape(-1, 1)\n",
    "new_arr1"
   ]
  },
  {
   "cell_type": "code",
   "execution_count": 309,
   "id": "300fac6c-eb37-4bf8-8aba-e4f102fe678a",
   "metadata": {},
   "outputs": [
    {
     "data": {
      "text/plain": [
       "(4, 1)"
      ]
     },
     "execution_count": 309,
     "metadata": {},
     "output_type": "execute_result"
    }
   ],
   "source": [
    "new_arr1.shape"
   ]
  },
  {
   "cell_type": "code",
   "execution_count": 311,
   "id": "cc2901ad-3277-4265-8806-f619d3a3eddf",
   "metadata": {},
   "outputs": [
    {
     "data": {
      "text/plain": [
       "array([[10, 11, 12, 13]])"
      ]
     },
     "execution_count": 311,
     "metadata": {},
     "output_type": "execute_result"
    }
   ],
   "source": [
    "# arr2에 수평축 추가\n",
    "new_arr2 = arr2.reshape(1, -1)\n",
    "new_arr2"
   ]
  },
  {
   "cell_type": "code",
   "execution_count": 313,
   "id": "4eb25d24-1de5-496c-b3b0-adb989e6f83a",
   "metadata": {},
   "outputs": [
    {
     "data": {
      "text/plain": [
       "(1, 4)"
      ]
     },
     "execution_count": 313,
     "metadata": {},
     "output_type": "execute_result"
    }
   ],
   "source": [
    "new_arr2.shape"
   ]
  },
  {
   "cell_type": "code",
   "execution_count": 315,
   "id": "5bedcb80-097a-4f4e-ab33-559d4d455107",
   "metadata": {},
   "outputs": [
    {
     "data": {
      "text/plain": [
       "array([[ 60,  66,  72,  78],\n",
       "       [ 70,  77,  84,  91],\n",
       "       [ 80,  88,  96, 104],\n",
       "       [ 90,  99, 108, 117]])"
      ]
     },
     "execution_count": 315,
     "metadata": {},
     "output_type": "execute_result"
    }
   ],
   "source": [
    "# 2차원 배열의 곱하기 연산\n",
    "new_arr1 * new_arr2"
   ]
  },
  {
   "cell_type": "code",
   "execution_count": 327,
   "id": "4f42fce9-1168-413f-a03a-023237341931",
   "metadata": {},
   "outputs": [
    {
     "data": {
      "text/plain": [
       "array([[ 60,  66,  72,  78],\n",
       "       [ 70,  77,  84,  91],\n",
       "       [ 80,  88,  96, 104],\n",
       "       [ 90,  99, 108, 117]])"
      ]
     },
     "execution_count": 327,
     "metadata": {},
     "output_type": "execute_result"
    }
   ],
   "source": [
    "# 행렬곱 연산\n",
    "new_arr1 @ new_arr2"
   ]
  },
  {
   "cell_type": "code",
   "execution_count": 329,
   "id": "17848c4a-0021-4f83-9c57-f0b00167b16d",
   "metadata": {},
   "outputs": [
    {
     "data": {
      "text/plain": [
       "array([[ 5, 12],\n",
       "       [21, 32]])"
      ]
     },
     "execution_count": 329,
     "metadata": {},
     "output_type": "execute_result"
    }
   ],
   "source": [
    "a = np.array([[1, 2], [3, 4]])\n",
    "b = np.array([[5, 6], [7, 8]])\n",
    "\n",
    "# * 연산자는 요소별 곱셈을 수행\n",
    "result = a * b\n",
    "result"
   ]
  },
  {
   "cell_type": "code",
   "execution_count": 331,
   "id": "1e004e57-3eb2-4f7a-83fd-7fc0a47f2487",
   "metadata": {},
   "outputs": [
    {
     "data": {
      "text/plain": [
       "array([[19, 22],\n",
       "       [43, 50]])"
      ]
     },
     "execution_count": 331,
     "metadata": {},
     "output_type": "execute_result"
    }
   ],
   "source": [
    "# @ 연산자는 행렬곱셈을 수행\n",
    "a @ b"
   ]
  },
  {
   "cell_type": "markdown",
   "id": "1b175943-e9c7-4b5f-9791-51d8942dcc91",
   "metadata": {},
   "source": [
    "## 브로드캐스팅(broadcasting)\n",
    "\n",
    "- 배열끼리 연산을 하기 위해서는 두 배열의 크기가 같아야함\n",
    "- 서로 다른 크기를 가진 배열의 사칙 연산을 하는 경우 넘파이에서는 크기가 작은 배열을 자동으로 반복 확장하여 크기가 큰 배열에 맞춤"
   ]
  },
  {
   "cell_type": "code",
   "execution_count": 334,
   "id": "223058db-35f4-4b43-95b7-14879ce6cef8",
   "metadata": {},
   "outputs": [
    {
     "data": {
      "text/plain": [
       "array([[6],\n",
       "       [7],\n",
       "       [8],\n",
       "       [9]])"
      ]
     },
     "execution_count": 334,
     "metadata": {},
     "output_type": "execute_result"
    }
   ],
   "source": [
    "new_arr1"
   ]
  },
  {
   "cell_type": "code",
   "execution_count": 336,
   "id": "02e0cd4e-692d-4471-8cca-adefe5077cff",
   "metadata": {},
   "outputs": [
    {
     "data": {
      "text/plain": [
       "array([[10, 11, 12, 13]])"
      ]
     },
     "execution_count": 336,
     "metadata": {},
     "output_type": "execute_result"
    }
   ],
   "source": [
    "new_arr2"
   ]
  },
  {
   "cell_type": "code",
   "execution_count": 338,
   "id": "e018a277-167a-4e62-8126-1fe06456ffe7",
   "metadata": {},
   "outputs": [
    {
     "data": {
      "text/plain": [
       "array([[16, 17, 18, 19],\n",
       "       [17, 18, 19, 20],\n",
       "       [18, 19, 20, 21],\n",
       "       [19, 20, 21, 22]])"
      ]
     },
     "execution_count": 338,
     "metadata": {},
     "output_type": "execute_result"
    }
   ],
   "source": [
    "new_arr1 + new_arr2"
   ]
  },
  {
   "cell_type": "markdown",
   "id": "464f6b08-4c0d-43ff-8576-73358d89b899",
   "metadata": {},
   "source": [
    "#### 연습문제\n",
    "\n",
    "1. 아래의 배열에서 3의 배수를 찾기\n",
    "2. 아래의 배열에서 4로 나누면 1이 남는 수를 찾기\n",
    "3. 아래의 배열에서 3으로 나누면 나누어지고 4로 나누면 1이 남는 수를 찾기"
   ]
  },
  {
   "cell_type": "code",
   "execution_count": 343,
   "id": "f1094b4d-b05c-4f62-88c1-23be4e783761",
   "metadata": {},
   "outputs": [
    {
     "data": {
      "text/plain": [
       "array([ 1,  2,  3,  4,  5,  6,  7,  8,  9, 10, 11, 12, 13, 14, 15, 16, 17,\n",
       "       18, 19, 20])"
      ]
     },
     "execution_count": 343,
     "metadata": {},
     "output_type": "execute_result"
    }
   ],
   "source": [
    "x = np.arange(1, 21)\n",
    "x"
   ]
  },
  {
   "cell_type": "code",
   "execution_count": 345,
   "id": "a9f054fe-5424-40f2-a3a9-2280dd0126f6",
   "metadata": {},
   "outputs": [
    {
     "data": {
      "text/plain": [
       "array([ 3,  6,  9, 12, 15, 18])"
      ]
     },
     "execution_count": 345,
     "metadata": {},
     "output_type": "execute_result"
    }
   ],
   "source": [
    "# 1. 3의 배수를 찾기\n",
    "x[x % 3 == 0]"
   ]
  },
  {
   "cell_type": "code",
   "execution_count": 347,
   "id": "a64db7e6-ec49-4c08-9c93-87e2f1c77ba5",
   "metadata": {},
   "outputs": [
    {
     "data": {
      "text/plain": [
       "array([ 1,  5,  9, 13, 17])"
      ]
     },
     "execution_count": 347,
     "metadata": {},
     "output_type": "execute_result"
    }
   ],
   "source": [
    "# 2. 4로 나누면 1이 남는 수를 찾기\n",
    "x[x % 4 == 1]"
   ]
  },
  {
   "cell_type": "code",
   "execution_count": 351,
   "id": "dcc1868b-39e0-44d8-a9fa-cc052982f7bc",
   "metadata": {},
   "outputs": [
    {
     "data": {
      "text/plain": [
       "array([9])"
      ]
     },
     "execution_count": 351,
     "metadata": {},
     "output_type": "execute_result"
    }
   ],
   "source": [
    "# 3. 3으로 나누면 나누어지고 4로 나누면 1이 남는 수를 찾기\n",
    "x[(x % 3 == 0) & (x % 4 == 1)]"
   ]
  },
  {
   "cell_type": "code",
   "execution_count": null,
   "id": "e03c8da9-4e0d-47fc-a509-5626c0c7bfa6",
   "metadata": {},
   "outputs": [],
   "source": []
  }
 ],
 "metadata": {
  "kernelspec": {
   "display_name": "Python [conda env:base] *",
   "language": "python",
   "name": "conda-base-py"
  },
  "language_info": {
   "codemirror_mode": {
    "name": "ipython",
    "version": 3
   },
   "file_extension": ".py",
   "mimetype": "text/x-python",
   "name": "python",
   "nbconvert_exporter": "python",
   "pygments_lexer": "ipython3",
   "version": "3.12.7"
  }
 },
 "nbformat": 4,
 "nbformat_minor": 5
}
