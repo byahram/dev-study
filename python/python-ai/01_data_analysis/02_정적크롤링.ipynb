{
 "cells": [
  {
   "cell_type": "markdown",
   "id": "009024ce-c297-4b2b-97a8-6a5130318c69",
   "metadata": {},
   "source": [
    "# 크롤러와 스크래퍼\n",
    "\n",
    "- 크롤러 : 알고리즘에 의해 인터넷을 탐색하는 프로그램\n",
    "- 크롤링 : 크롤러가 웹페이지들을 돌아다니는 행위\n",
    "- 스크래퍼 : 웹페이지의 데이터를 수집하는 프로그램\n",
    "- 스크래핑 : 특정 페이지의 데이터를 수집하는 행위\n",
    "- **통상적으로 크롤링과 스크래핑을 합쳐서 크롤링이라고 표현함**"
   ]
  },
  {
   "cell_type": "markdown",
   "id": "da0f60b3-e6c7-4410-8e54-c33c3522d7b1",
   "metadata": {},
   "source": [
    "# 웹 크롤링 방식\n",
    "\n",
    "1. 정적 크롤링\n",
    "    - 어느 상황에서나 같은 주소에서 변하지 않은 데이터를 기대할 수 있는 경우\n",
    "    - 수집 대상에 한계가 있으나 속도가 빠르다\n",
    "    - BeautifulSoup\n",
    "2. 동적 크롤링\n",
    "    - 입력, 클릭 등 실제 브라우저에서 행하는 행동들을 해야만 데이터를 수집할 수 있는 경우\n",
    "    - 수집 대상에 한계가 적으나 속도가 느리다\n",
    "    - Selenium\n",
    "\n",
    "#### DOM - 웹 문서를 브라우저가 이해할 수 있는 구조로 구성하여 메모리에 적재하는 것"
   ]
  },
  {
   "cell_type": "markdown",
   "id": "e7096f4a-1f18-4a76-a049-b32a210bfdc6",
   "metadata": {},
   "source": [
    "# 정적 크롤링 모듈"
   ]
  },
  {
   "cell_type": "code",
   "execution_count": 12,
   "id": "73634081-4bbb-4bc4-aac0-0c6836739cef",
   "metadata": {},
   "outputs": [],
   "source": [
    "from bs4 import BeautifulSoup\n",
    "from urllib.request import urlopen"
   ]
  },
  {
   "cell_type": "markdown",
   "id": "0cdc5006-01df-4a0c-82cf-23a3beb778e6",
   "metadata": {},
   "source": [
    "- BeautifulSoup의 역할 : 요청 모듈로 가져온 HTML 코드를 파이썬이 쓸 수 있는 형태로 변환해주는 역할"
   ]
  },
  {
   "cell_type": "code",
   "execution_count": 15,
   "id": "079c4564-325c-401f-90c9-f0fb1804bc63",
   "metadata": {},
   "outputs": [],
   "source": [
    "url = \"http://www.naver.com\"\n",
    "page = urlopen(url)\n",
    "soup = BeautifulSoup(page, \"lxml\")"
   ]
  },
  {
   "cell_type": "code",
   "execution_count": 17,
   "id": "7708dd5f-b137-4194-8ea1-44675f94e77d",
   "metadata": {},
   "outputs": [],
   "source": [
    "# print(soup)"
   ]
  },
  {
   "cell_type": "markdown",
   "id": "06691d14-80be-47fd-8d42-af44de651a47",
   "metadata": {},
   "source": [
    "## 파서\n",
    "\n",
    "- 내가 원하는 데이터를 특정 패턴이나 순서로 추출하여 정보를 가공해주는 프로그램\n",
    "    - lxml\n",
    "      - c언어로 구현되어 속도가 가장 빠름\n",
    "    - html5lib\n",
    "      - 웹브라우저 형태로 HTML을 분석\n",
    "      - 속도가 가장 느림\n",
    "      - 가장 안정적\n",
    "    - html.parser\n",
    "      - lxml과 html5lib의 중간 속도"
   ]
  },
  {
   "cell_type": "markdown",
   "id": "7b68f9fa-149e-4749-8e0b-3293a4cb9949",
   "metadata": {},
   "source": [
    "# 속성 데이터"
   ]
  },
  {
   "cell_type": "code",
   "execution_count": 61,
   "id": "d7155688-7305-4ce6-a629-e1bc067bd90c",
   "metadata": {},
   "outputs": [],
   "source": [
    "html = \"\"\"<html> <head><title class=\"t\" id=\"ti\">test site</title></head> <body> <p>test</p> <p>test1</p> <p>test2</p> </body></html>\"\"\""
   ]
  },
  {
   "cell_type": "code",
   "execution_count": 63,
   "id": "683a14a1-b90c-486d-a217-bddc505d5a5b",
   "metadata": {},
   "outputs": [],
   "source": [
    "soup = BeautifulSoup(html, \"lxml\")"
   ]
  },
  {
   "cell_type": "code",
   "execution_count": 65,
   "id": "3abe3600-c36e-4f08-be03-f95d717115f7",
   "metadata": {},
   "outputs": [
    {
     "data": {
      "text/plain": [
       "<html> <head><title class=\"t\" id=\"ti\">test site</title></head> <body> <p>test</p> <p>test1</p> <p>test2</p> </body></html>"
      ]
     },
     "execution_count": 65,
     "metadata": {},
     "output_type": "execute_result"
    }
   ],
   "source": [
    "soup"
   ]
  },
  {
   "cell_type": "code",
   "execution_count": 67,
   "id": "35a3e5b8-2266-453e-92ed-efb21eb3c20f",
   "metadata": {},
   "outputs": [],
   "source": [
    "# soup의 첫번째 title 태그\n",
    "tag_title = soup.title"
   ]
  },
  {
   "cell_type": "code",
   "execution_count": 69,
   "id": "c9217111-2ea5-414e-8510-06beb85f2bcd",
   "metadata": {},
   "outputs": [
    {
     "data": {
      "text/plain": [
       "<title class=\"t\" id=\"ti\">test site</title>"
      ]
     },
     "execution_count": 69,
     "metadata": {},
     "output_type": "execute_result"
    }
   ],
   "source": [
    "tag_title"
   ]
  },
  {
   "cell_type": "code",
   "execution_count": 71,
   "id": "6fa67aa8-f4f3-48b8-967e-a4b15e6f9b62",
   "metadata": {},
   "outputs": [
    {
     "data": {
      "text/plain": [
       "{'class': ['t'], 'id': 'ti'}"
      ]
     },
     "execution_count": 71,
     "metadata": {},
     "output_type": "execute_result"
    }
   ],
   "source": [
    "# 태그의 속성 가져오기\n",
    "tag_title.attrs"
   ]
  },
  {
   "cell_type": "code",
   "execution_count": 73,
   "id": "fe2f089e-4ed2-489e-ba3d-040e96975711",
   "metadata": {},
   "outputs": [
    {
     "data": {
      "text/plain": [
       "['t']"
      ]
     },
     "execution_count": 73,
     "metadata": {},
     "output_type": "execute_result"
    }
   ],
   "source": [
    "tag_title[\"class\"]"
   ]
  },
  {
   "cell_type": "code",
   "execution_count": 75,
   "id": "30c8bdab-9881-40a4-9ddc-42053df166ef",
   "metadata": {},
   "outputs": [
    {
     "data": {
      "text/plain": [
       "'ti'"
      ]
     },
     "execution_count": 75,
     "metadata": {},
     "output_type": "execute_result"
    }
   ],
   "source": [
    "tag_title[\"id\"]"
   ]
  },
  {
   "cell_type": "code",
   "execution_count": 77,
   "id": "089d0163-5a8e-4941-8c72-ed1f8e7eb44e",
   "metadata": {},
   "outputs": [
    {
     "ename": "KeyError",
     "evalue": "'class1'",
     "output_type": "error",
     "traceback": [
      "\u001b[1;31m---------------------------------------------------------------------------\u001b[0m",
      "\u001b[1;31mKeyError\u001b[0m                                  Traceback (most recent call last)",
      "Cell \u001b[1;32mIn[77], line 2\u001b[0m\n\u001b[0;32m      1\u001b[0m \u001b[38;5;66;03m# 키가 없다면 에러 발생\u001b[39;00m\n\u001b[1;32m----> 2\u001b[0m tag_title[\u001b[38;5;124m\"\u001b[39m\u001b[38;5;124mclass1\u001b[39m\u001b[38;5;124m\"\u001b[39m]\n",
      "File \u001b[1;32m~\\anaconda3\\Lib\\site-packages\\bs4\\element.py:1573\u001b[0m, in \u001b[0;36mTag.__getitem__\u001b[1;34m(self, key)\u001b[0m\n\u001b[0;32m   1570\u001b[0m \u001b[38;5;28;01mdef\u001b[39;00m \u001b[38;5;21m__getitem__\u001b[39m(\u001b[38;5;28mself\u001b[39m, key):\n\u001b[0;32m   1571\u001b[0m \u001b[38;5;250m    \u001b[39m\u001b[38;5;124;03m\"\"\"tag[key] returns the value of the 'key' attribute for the Tag,\u001b[39;00m\n\u001b[0;32m   1572\u001b[0m \u001b[38;5;124;03m    and throws an exception if it's not there.\"\"\"\u001b[39;00m\n\u001b[1;32m-> 1573\u001b[0m     \u001b[38;5;28;01mreturn\u001b[39;00m \u001b[38;5;28mself\u001b[39m\u001b[38;5;241m.\u001b[39mattrs[key]\n",
      "\u001b[1;31mKeyError\u001b[0m: 'class1'"
     ]
    }
   ],
   "source": [
    "# 키가 없다면 에러 발생\n",
    "tag_title[\"class1\"]"
   ]
  },
  {
   "cell_type": "code",
   "execution_count": 79,
   "id": "7fe24ba3-b847-4f99-8043-20cf35382b2d",
   "metadata": {},
   "outputs": [
    {
     "data": {
      "text/plain": [
       "bs4.element.Tag"
      ]
     },
     "execution_count": 79,
     "metadata": {},
     "output_type": "execute_result"
    }
   ],
   "source": [
    "# tag타입은 딕셔너리처럼 접근할 수 있고 딕셔너리 문법을 그대로 적용할 수 있음 \n",
    "type(tag_title)"
   ]
  },
  {
   "cell_type": "markdown",
   "id": "dff9aae6-ee51-4433-99b0-8414d43860f7",
   "metadata": {},
   "source": [
    "## 태그 접근\n",
    "\n",
    "- soup.태그이름 의 형태로 첫번째로 등장하는 태그의 정보를 가져올 수 있음"
   ]
  },
  {
   "cell_type": "code",
   "execution_count": 82,
   "id": "fe18c77a-259d-4505-8644-70525f61a252",
   "metadata": {},
   "outputs": [
    {
     "data": {
      "text/plain": [
       "<title class=\"t\" id=\"ti\">test site</title>"
      ]
     },
     "execution_count": 82,
     "metadata": {},
     "output_type": "execute_result"
    }
   ],
   "source": [
    "tag_title"
   ]
  },
  {
   "cell_type": "code",
   "execution_count": 84,
   "id": "668c8d2d-2914-4178-8b33-5fbdd29da9cc",
   "metadata": {},
   "outputs": [
    {
     "name": "stdout",
     "output_type": "stream",
     "text": [
      "test site\n",
      "test site\n"
     ]
    }
   ],
   "source": [
    "print(tag_title.text)\n",
    "print(tag_title.string)"
   ]
  },
  {
   "cell_type": "code",
   "execution_count": 86,
   "id": "e92ef12d-b272-4f0c-9bd3-5c9c603dcf2f",
   "metadata": {},
   "outputs": [],
   "source": [
    "# text와 string의 차이\n",
    "html2 = \"\"\"<html> <head><title>test site</title></head> <body> <p><span>test1</span><span>test2</span></p> </body></html>\"\"\"\n",
    "soup2 = BeautifulSoup(html2, \"lxml\")\n",
    "\n",
    "tag_p = soup2.p"
   ]
  },
  {
   "cell_type": "code",
   "execution_count": 88,
   "id": "91afac8f-f6d3-4615-8a85-297a876192cd",
   "metadata": {},
   "outputs": [
    {
     "data": {
      "text/plain": [
       "<p><span>test1</span><span>test2</span></p>"
      ]
     },
     "execution_count": 88,
     "metadata": {},
     "output_type": "execute_result"
    }
   ],
   "source": [
    "tag_p"
   ]
  },
  {
   "cell_type": "code",
   "execution_count": 90,
   "id": "1cccbf11-827d-446e-a700-21e1f04de444",
   "metadata": {},
   "outputs": [
    {
     "name": "stdout",
     "output_type": "stream",
     "text": [
      "text : test1test2 <class 'str'>\n",
      "string : None <class 'NoneType'>\n"
     ]
    }
   ],
   "source": [
    "data_text = tag_p.text\n",
    "data_string = tag_p.string\n",
    "\n",
    "print(\"text :\", data_text, type(data_text))\n",
    "print(\"string :\", data_string, type(data_string))"
   ]
  },
  {
   "cell_type": "markdown",
   "id": "67254ac1-654f-4b86-92d4-68e3400e79f2",
   "metadata": {},
   "source": [
    "- text : 하위 태그들의 값도 모두 출력\n",
    "- string : 정확히 해당 태그에 대한 값만 출력"
   ]
  },
  {
   "cell_type": "code",
   "execution_count": 93,
   "id": "2a916605-fd13-4f5c-a150-ae97fac67d41",
   "metadata": {},
   "outputs": [
    {
     "data": {
      "text/plain": [
       "'test1'"
      ]
     },
     "execution_count": 93,
     "metadata": {},
     "output_type": "execute_result"
    }
   ],
   "source": [
    "tag_p.span.string"
   ]
  },
  {
   "cell_type": "markdown",
   "id": "0ff17d67-cc31-4f3c-927b-a3fb4b0c3025",
   "metadata": {},
   "source": [
    "## 원하는 요소에 접근하기"
   ]
  },
  {
   "cell_type": "markdown",
   "id": "d5c90aa3-327e-46fe-b9bf-1e745d7023a6",
   "metadata": {},
   "source": [
    "### select()\n",
    "\n",
    "- 매칭되는 모든 결과를 리스트로 반환\n",
    "\n",
    "- 클래스는 마침표(.), 아이디는 샵(#)으로, 자식태그는 > 로 표현, 자손태그는 띄어쓰기로 표현\n",
    "\n",
    "- select_one()으로 하나의 결과만 반환하는 것도 가능"
   ]
  },
  {
   "cell_type": "code",
   "execution_count": 103,
   "id": "987d0ffb-ef5c-4a58-af60-cfaeca7086fc",
   "metadata": {},
   "outputs": [],
   "source": [
    "html3 = \"\"\"<html> <head><title>test site</title></head> <body> <p id=\"i\" class=\"a\">test1</p><p id=\"d\" class=\"d\">test2</p><p class=\"c\">test3</p></p><a>a tag</a> <b>b tag</b></body></html>\"\"\"\n",
    "soup = BeautifulSoup(html3, \"lxml\")"
   ]
  },
  {
   "cell_type": "code",
   "execution_count": 105,
   "id": "a5f2524b-8a32-4b01-be84-2128b985c0e3",
   "metadata": {},
   "outputs": [
    {
     "name": "stdout",
     "output_type": "stream",
     "text": [
      "[<p class=\"a\" id=\"i\">test1</p>, <p class=\"d\" id=\"d\">test2</p>, <p class=\"c\">test3</p>]\n"
     ]
    }
   ],
   "source": [
    "print(soup.select(\"p\"))    # p 태그들"
   ]
  },
  {
   "cell_type": "code",
   "execution_count": 107,
   "id": "2475ed74-0ce9-43d4-a2d5-21e9d98d601b",
   "metadata": {},
   "outputs": [
    {
     "name": "stdout",
     "output_type": "stream",
     "text": [
      "<p class=\"a\" id=\"i\">test1</p>\n"
     ]
    }
   ],
   "source": [
    "print(soup.select_one(\"p\"))"
   ]
  },
  {
   "cell_type": "code",
   "execution_count": 109,
   "id": "a0b3216b-97bf-4b7b-a12c-396002fc3d99",
   "metadata": {},
   "outputs": [
    {
     "name": "stdout",
     "output_type": "stream",
     "text": [
      "[<p class=\"d\" id=\"d\">test2</p>]\n"
     ]
    }
   ],
   "source": [
    "print(soup.select(\".d\"))    # class가 d인 태그들"
   ]
  },
  {
   "cell_type": "code",
   "execution_count": 111,
   "id": "c3b18374-717a-4cc9-94f8-9ac4294e128b",
   "metadata": {},
   "outputs": [
    {
     "name": "stdout",
     "output_type": "stream",
     "text": [
      "[<p class=\"d\" id=\"d\">test2</p>]\n"
     ]
    }
   ],
   "source": [
    "print(soup.select(\"p.d\"))    # class가 d인 p태그들"
   ]
  },
  {
   "cell_type": "code",
   "execution_count": 113,
   "id": "518d5d4c-4d43-408f-be59-18ff486917c0",
   "metadata": {},
   "outputs": [
    {
     "name": "stdout",
     "output_type": "stream",
     "text": [
      "[<p class=\"a\" id=\"i\">test1</p>]\n"
     ]
    }
   ],
   "source": [
    "print(soup.select(\"#i\"))    # id가 i인 태그들"
   ]
  },
  {
   "cell_type": "code",
   "execution_count": 115,
   "id": "f7f7f55f-4b55-4236-887a-892c162bd410",
   "metadata": {},
   "outputs": [
    {
     "name": "stdout",
     "output_type": "stream",
     "text": [
      "[<p class=\"a\" id=\"i\">test1</p>]\n"
     ]
    }
   ],
   "source": [
    "print(soup.select(\"p#i\"))    # id가 i인 p태그들"
   ]
  },
  {
   "cell_type": "code",
   "execution_count": null,
   "id": "89ca5274-01a3-4045-8df4-bf74f3438040",
   "metadata": {},
   "outputs": [],
   "source": []
  }
 ],
 "metadata": {
  "kernelspec": {
   "display_name": "Python [conda env:base] *",
   "language": "python",
   "name": "conda-base-py"
  },
  "language_info": {
   "codemirror_mode": {
    "name": "ipython",
    "version": 3
   },
   "file_extension": ".py",
   "mimetype": "text/x-python",
   "name": "python",
   "nbconvert_exporter": "python",
   "pygments_lexer": "ipython3",
   "version": "3.12.7"
  }
 },
 "nbformat": 4,
 "nbformat_minor": 5
}
