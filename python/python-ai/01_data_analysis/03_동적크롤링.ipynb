{
 "cells": [
  {
   "cell_type": "code",
   "execution_count": 3,
   "id": "cdae4275-f2ce-40a5-b86b-6f71721d9b9b",
   "metadata": {},
   "outputs": [],
   "source": [
    "from selenium import webdriver\n",
    "from selenium.webdriver.common.by import By\n",
    "from bs4 import BeautifulSoup\n",
    "from urllib.request import urlopen\n",
    "from selenium.webdriver.common.keys import Keys\n",
    "import time"
   ]
  },
  {
   "cell_type": "markdown",
   "id": "01f35038-586a-49fd-9ed3-804f321534ab",
   "metadata": {},
   "source": [
    "# selenium으로 DOM에 접근하는 방법\n",
    "\n",
    "- 단일 객체 반환(bs4의 select_one()과 같은 형태)\n",
    "  - find_element\n",
    "- 리스트 객체 반환(bs4의 select()와 같은 형태)\n",
    "  - find_elements"
   ]
  },
  {
   "cell_type": "code",
   "execution_count": 6,
   "id": "3eb07e4d-49b5-4537-820d-6d9845f3fb3e",
   "metadata": {},
   "outputs": [],
   "source": [
    "# 웹 접속하기\n",
    "url = \"https://www.naver.com/\"\n",
    "driver = webdriver.Chrome()\n",
    "driver.get(url)    # url 접속"
   ]
  },
  {
   "cell_type": "markdown",
   "id": "1d406ce4-c180-4c7c-be5c-2e61e6bfcd39",
   "metadata": {},
   "source": [
    "## css_selector\n",
    "\n",
    "- bs4의 select()와 동일"
   ]
  },
  {
   "cell_type": "code",
   "execution_count": 9,
   "id": "fb2b6a94-0d25-4cb4-87c2-e8ff24f3cb90",
   "metadata": {},
   "outputs": [
    {
     "name": "stdout",
     "output_type": "stream",
     "text": [
      "<selenium.webdriver.remote.webelement.WebElement (session=\"1646e39fbd220fc6a570709d1c0ada31\", element=\"f.54F09C15FFFE1A544B18027289D98F81.d.2E02ACD6C9F74F889CFA541E2C6FDDC6.e.5\")>\n",
      "[programming] [react] react 작업환경 설\n",
      "react를 시작하기 전에 환경셋팅을 해보자\n",
      "2017-05-20 06:29:05 +0000   |   박정태\n"
     ]
    }
   ],
   "source": [
    "url = \"https://pjt3591oo.github.io\"\n",
    "driver = webdriver.Chrome()\n",
    "driver.get(url)\n",
    "\n",
    "selected = driver.find_element(by = By.CSS_SELECTOR, value = \"div.p\")\n",
    "print(selected)\n",
    "print(selected.text)"
   ]
  },
  {
   "cell_type": "code",
   "execution_count": 11,
   "id": "503a1739-289e-4a6f-8230-0fa05d4bf118",
   "metadata": {},
   "outputs": [
    {
     "name": "stdout",
     "output_type": "stream",
     "text": [
      "[<selenium.webdriver.remote.webelement.WebElement (session=\"1646e39fbd220fc6a570709d1c0ada31\", element=\"f.54F09C15FFFE1A544B18027289D98F81.d.2E02ACD6C9F74F889CFA541E2C6FDDC6.e.5\")>, <selenium.webdriver.remote.webelement.WebElement (session=\"1646e39fbd220fc6a570709d1c0ada31\", element=\"f.54F09C15FFFE1A544B18027289D98F81.d.2E02ACD6C9F74F889CFA541E2C6FDDC6.e.7\")>, <selenium.webdriver.remote.webelement.WebElement (session=\"1646e39fbd220fc6a570709d1c0ada31\", element=\"f.54F09C15FFFE1A544B18027289D98F81.d.2E02ACD6C9F74F889CFA541E2C6FDDC6.e.8\")>, <selenium.webdriver.remote.webelement.WebElement (session=\"1646e39fbd220fc6a570709d1c0ada31\", element=\"f.54F09C15FFFE1A544B18027289D98F81.d.2E02ACD6C9F74F889CFA541E2C6FDDC6.e.9\")>, <selenium.webdriver.remote.webelement.WebElement (session=\"1646e39fbd220fc6a570709d1c0ada31\", element=\"f.54F09C15FFFE1A544B18027289D98F81.d.2E02ACD6C9F74F889CFA541E2C6FDDC6.e.10\")>, <selenium.webdriver.remote.webelement.WebElement (session=\"1646e39fbd220fc6a570709d1c0ada31\", element=\"f.54F09C15FFFE1A544B18027289D98F81.d.2E02ACD6C9F74F889CFA541E2C6FDDC6.e.11\")>, <selenium.webdriver.remote.webelement.WebElement (session=\"1646e39fbd220fc6a570709d1c0ada31\", element=\"f.54F09C15FFFE1A544B18027289D98F81.d.2E02ACD6C9F74F889CFA541E2C6FDDC6.e.12\")>, <selenium.webdriver.remote.webelement.WebElement (session=\"1646e39fbd220fc6a570709d1c0ada31\", element=\"f.54F09C15FFFE1A544B18027289D98F81.d.2E02ACD6C9F74F889CFA541E2C6FDDC6.e.13\")>, <selenium.webdriver.remote.webelement.WebElement (session=\"1646e39fbd220fc6a570709d1c0ada31\", element=\"f.54F09C15FFFE1A544B18027289D98F81.d.2E02ACD6C9F74F889CFA541E2C6FDDC6.e.14\")>, <selenium.webdriver.remote.webelement.WebElement (session=\"1646e39fbd220fc6a570709d1c0ada31\", element=\"f.54F09C15FFFE1A544B18027289D98F81.d.2E02ACD6C9F74F889CFA541E2C6FDDC6.e.15\")>]\n"
     ]
    }
   ],
   "source": [
    "selected_list = driver.find_elements(by = By.CSS_SELECTOR, value = \"div.p\")\n",
    "print(selected_list)"
   ]
  },
  {
   "cell_type": "markdown",
   "id": "fb02addd-ad3d-4528-8155-7fcfee8badf9",
   "metadata": {},
   "source": [
    "## 없는 요소에 접근\n",
    "\n",
    "- bs4와는 다르게 없는 요소에 접근하면 에러를 띄움 "
   ]
  },
  {
   "cell_type": "code",
   "execution_count": 14,
   "id": "0160cf16-194f-4dbf-a04c-0546a44d5fdd",
   "metadata": {},
   "outputs": [],
   "source": [
    "url = \"https://pjt3591oo.github.io\"\n",
    "driver = webdriver.Chrome()\n",
    "driver.get(url)\n",
    "# driver.find_element(By.CSS_SELECTOR, \".a\")     # NoSuchElementException"
   ]
  },
  {
   "cell_type": "markdown",
   "id": "da4f705a-715d-4a37-8d61-8819729d8a7f",
   "metadata": {},
   "source": [
    "# 웹 제어"
   ]
  },
  {
   "cell_type": "markdown",
   "id": "64819446-1027-4dcf-bfbf-94aed1dac484",
   "metadata": {},
   "source": [
    "## 마우스 제어"
   ]
  },
  {
   "cell_type": "code",
   "execution_count": 18,
   "id": "381e24bb-67dc-4f3e-88fa-5d478633776c",
   "metadata": {},
   "outputs": [],
   "source": [
    "url = \"https://pjt3591oo.github.io\"\n",
    "driver = webdriver.Chrome()\n",
    "driver.get(url)\n",
    "\n",
    "title = driver.find_element(By.CSS_SELECTOR, \"div.p a\")    # 글 제목 찾기\n",
    "title.click()    # 글 제목 클릭"
   ]
  },
  {
   "cell_type": "markdown",
   "id": "7eb139ab-2176-4bf2-9f26-f4db0caa5102",
   "metadata": {},
   "source": [
    "## 키보드 제어"
   ]
  },
  {
   "cell_type": "code",
   "execution_count": 21,
   "id": "231fbec7-86b1-42ab-908e-153557033765",
   "metadata": {},
   "outputs": [],
   "source": [
    "url = \"https://pjt3591oo.github.io/search\"\n",
    "driver = webdriver.Chrome()\n",
    "driver.get(url)\n",
    "\n",
    "search_box = driver.find_element(By.CSS_SELECTOR, \"input#search-box\")    # 검색창 찾기\n",
    "search_box.send_keys(\"test\")    # 검색창에 키보드 입력"
   ]
  },
  {
   "cell_type": "markdown",
   "id": "8db8ac63-8077-45f9-9fdc-f729fcf855ba",
   "metadata": {},
   "source": [
    "## selenium 활용"
   ]
  },
  {
   "cell_type": "code",
   "execution_count": 26,
   "id": "dbf35ddc-4542-434f-8a44-5d656443f4af",
   "metadata": {},
   "outputs": [
    {
     "name": "stdout",
     "output_type": "stream",
     "text": [
      "<h3>Javascript Asynchronous, synchronous and Promise</h3>\n",
      "동기, 비동기 그리고 promiseAsynchronous(비동기) Code란 무엇일까? node를 접하지 않았다면 대부분의 개발자들은 동기방식의 코드에 익숙할 것이다. 다음 코드를 보면 이해하기 쉬울 것이다.void FTest(){    for(int i = 0 ; i...\n",
      "----------------------------------------\n",
      "<h3>Structure aiohttp Of python</h3>\n",
      "  내용을 시작하기 앞서 python에 하면 가장 많이 떠오르는 서버 프레임워크로는 django나 flask가 있을 것이다.하지만 블로그 주인놈은 특정 프로젝트에서 굉장히 빠른 응답속도를 내야하는 API서버를 구축을 하여야 하는 상황이 있었다.이때 굉장히 많은 서버 프...\n",
      "----------------------------------------\n",
      "<h3>mysqldump를 이용하여 데이터 백업, 복원하기</h3>\n",
      "로컬 서버에 있는 디비를 분리하기 위해 기존의 디비에 있는 데이터를 백업해야 하는 일이 생겼다. 방법은 많지만 mysqldump를 이용하여 해결을 하였다.mysqldump는 해당 내부의 데이터를 sql 문으로 전부 바꿔주는 역할을 하는 툴이다.mysqldump의 경우 ...\n",
      "----------------------------------------\n",
      "<h3>sequelize - Migrations[번역]</h3>\n",
      "  시작 하기 앞서 해당 글은 sequelize document를 직접 번역함을 알립니다. 영어를 많이 잘하지 못하여 오역이 있을 수 있습니다.sequelize 2.0.0버전은 gulp 그리고 sequelize-cli와 gulp-sequelize 결합을 기반으로 새로운...\n",
      "----------------------------------------\n",
      "<h3>Structure Express Of Node</h3>\n",
      "Express Frameexpress는 node.js에서 제공하는 프레임워크.express-genderator를 설치를 통해 express 프로젝트 생성이 가능하다.아래의 내용은 Mysql 혹은 MariaDB, MongoDb(mongodb모듈을 통해 로우단에서 mong...\n",
      "----------------------------------------\n",
      "<h3>sequelize - Getting Started[번역]</h3>\n",
      "  시작 하기 앞서 해당 글은 sequelize document를 직접 번역함을 알립니다. 영어를 많이 잘하지 못하여 오역이 있을 수 있습니다.설치Sequelize는 NPM을 통하여 사용할 수 있다.$ npm install --save sequelize# 다음 중 하나...\n",
      "----------------------------------------\n",
      "<h3>docker commends</h3>\n",
      "docker는 가상머신처럼 기존의 운영체제에서 다른 운영체제를 돌릴 수 있도록 해주는 기술입니다이번 포스팅에서는 도커의 명령어를 간단하게 정리를 해보도록 하겠습니다.  이미지 확인$ docker images  이미지 파일 내려받기$ docker pull [image] ...\n",
      "----------------------------------------\n",
      "<h3>ubuntu에 php 개발환경 셋팅</h3>\n",
      "시작하기에 앞서서 필자는 docker에 ubuntu 16버전에서 셋팅을 하였습니다.ubuntu 설치 직후와 같은환경.APM설치ubuntu에 php환경을 셋팅을 해보도록 하곘습니다.도커에 우분투를 올린것은 우분투를 설치 직후와 같기때문에 패키지, apt-get을 업데이트...\n",
      "----------------------------------------\n",
      "<h3>mysql 원격접속하는 방법</h3>\n",
      "database도 하나의 서버이기 때문에 외부에서 접속을 해야하는 경우가 있다.하지만 2가지의 이유로 접속이 불가능할 수 있다.1번째. db의 접속 ip를 제한했을 경우 이는 디비 자체에서 특정 ip대역만 접속을 허용하도록 설정하는 경우이다.2번째. 경우 유저의 접속 ...\n",
      "----------------------------------------\n",
      "<h3>RDBMS vs NoSQL vs InMemory</h3>\n",
      "어제 뉴스를 보면서 사람은 하루에 약 2Gb의 데이터를 자동차는 사람보다 더 많은 데이터를 비행기는 테라 바이트에 가까울 정도로 생산을 해낸다는 기사를 보았습니다.저 또한 크롤러를 통해 하루에도 수많은 데이터를 만들어 내고 있습니다.그렇다면 저 수많은 데이터를 관리를 ...\n",
      "----------------------------------------\n",
      "<h3>sequelize - Usage[번역]</h3>\n",
      "  시작 하기 앞서 해당 글은 sequelize document를 직접 번역함을 알립니다. 영어를 많이 잘하지 못하여 오역이 있을 수 있습니다.데이터 검색/ 발견발견하는 함수들은 데이터 베이스로부터 데이터를 조회하기 위한 함수이다. 그들은 객체를 반한하지 않는 대신에 ...\n",
      "----------------------------------------\n"
     ]
    }
   ],
   "source": [
    "url = \"https://pjt3591oo.github.io/search\"\n",
    "driver = webdriver.Chrome()\n",
    "driver.get(url)\n",
    "\n",
    "search_box = driver.find_element(By.CSS_SELECTOR, \"input#search-box\")    # 검색창 찾기\n",
    "search_box.send_keys(\"db\")    # 검색창에 키보드 입력\n",
    "search_box.send_keys(Keys.ENTER)    # 검색창에 엔터키 입력\n",
    "\n",
    "time.sleep(1)\n",
    "\n",
    "# driver.page_source : 현재 웹 브라우저의 HTML 코드를 가져옴\n",
    "soup = BeautifulSoup(driver.page_source, \"lxml\")\n",
    "\n",
    "items = soup.select(\"ul#search-results > li\")    # 11개 검색 결과\n",
    "\n",
    "for item in items: \n",
    "    title = item.select_one(\"h3\")\n",
    "    description = item.select_one(\"p\").string\n",
    "    print(title)\n",
    "    print(description)\n",
    "    print(\"-\" * 40)"
   ]
  },
  {
   "cell_type": "markdown",
   "id": "98e822f2-27ca-4317-b366-bb359ff81b4f",
   "metadata": {},
   "source": [
    "## 예제. 네이버 백과사전"
   ]
  },
  {
   "cell_type": "code",
   "execution_count": 29,
   "id": "6c01dda2-1790-441a-9d68-0074da992b5f",
   "metadata": {},
   "outputs": [],
   "source": [
    "url = \"https://naver.com/\"\n",
    "driver = webdriver.Chrome()\n",
    "driver.get(url)\n",
    "\n",
    "driver.implicitly_wait(3)    # 묵시적 대기, 활성화률 최대 3초까지 기다림\n",
    "\n",
    "# 요소 찾기 - 검색창 찾고 키 전송\n",
    "search_box = driver.find_element(By.CSS_SELECTOR, \".search_input_box input\")\n",
    "search_box.send_keys(\"고슴도치\")    # 검색어 검색\n",
    "search_box.send_keys(Keys.ENTER)    # 엔터키 입력\n",
    "driver.implicitly_wait(3)    # 묵시적 대기\n",
    "\n",
    "# 지식백과에서 고슴도치 클릭\n",
    "post = driver.find_element(By.CSS_SELECTOR, \"a.area_text_title\")\n",
    "post.click()"
   ]
  },
  {
   "cell_type": "code",
   "execution_count": null,
   "id": "7c18f8e1-9158-4fec-b6bc-4c8e3cf734a2",
   "metadata": {},
   "outputs": [],
   "source": []
  }
 ],
 "metadata": {
  "kernelspec": {
   "display_name": "Python [conda env:base] *",
   "language": "python",
   "name": "conda-base-py"
  },
  "language_info": {
   "codemirror_mode": {
    "name": "ipython",
    "version": 3
   },
   "file_extension": ".py",
   "mimetype": "text/x-python",
   "name": "python",
   "nbconvert_exporter": "python",
   "pygments_lexer": "ipython3",
   "version": "3.12.7"
  }
 },
 "nbformat": 4,
 "nbformat_minor": 5
}
